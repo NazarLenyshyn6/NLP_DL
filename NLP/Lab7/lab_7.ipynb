{
 "cells": [
  {
   "cell_type": "code",
   "execution_count": 1,
   "metadata": {},
   "outputs": [
    {
     "name": "stderr",
     "output_type": "stream",
     "text": [
      "[nltk_data] Downloading package treebank to\n",
      "[nltk_data]     /Users/nazarlenisin/nltk_data...\n",
      "[nltk_data]   Package treebank is already up-to-date!\n"
     ]
    },
    {
     "data": {
      "text/plain": [
       "True"
      ]
     },
     "execution_count": 1,
     "metadata": {},
     "output_type": "execute_result"
    }
   ],
   "source": [
    "import nltk\n",
    "import math\n",
    "from collections import Counter\n",
    "from nltk.corpus import treebank\n",
    "nltk.download(\"treebank\")"
   ]
  },
  {
   "cell_type": "code",
   "execution_count": 2,
   "metadata": {},
   "outputs": [],
   "source": [
    "from typing import Protocol\n",
    "from nltk.tokenize import word_tokenize\n",
    "\n",
    "# Introducing Interface of text preprocessor\n",
    "class TextPreprocessorI(Protocol):\n",
    "    @staticmethod\n",
    "    def preprocess(text: str) -> list[str]:\n",
    "        ...\n",
    "        \n",
    "        \n",
    "# Inplementation of concrete text preprocessor\n",
    "class TextPreprocessor:\n",
    "    @staticmethod\n",
    "    def preprocess(text: str) -> list[str]:\n",
    "        return word_tokenize(text)"
   ]
  },
  {
   "cell_type": "code",
   "execution_count": 21,
   "metadata": {},
   "outputs": [],
   "source": [
    "import numpy as np\n",
    "\n",
    "class TFIDF:\n",
    "    def __init__(self, preprocessor: TextPreprocessorI = TextPreprocessor):\n",
    "        self.preprocessor = preprocessor\n",
    "        self._vocab = {}\n",
    "        self._inverse_vocab = {}\n",
    "        self._word_idx = 0\n",
    "        \n",
    "        \n",
    "    def _compute_tf(self, text: list[str]) -> dict:\n",
    "        words = Counter(text)\n",
    "        return {word: words[word] / len(text) for word in words}\n",
    "    \n",
    "    \n",
    "    def _compute_idf(self, corpus: list[list[str]]) -> dict:\n",
    "        idf = {}\n",
    "        preprocessed_corpus = [set(self.preprocessor.preprocess(text)) for text in corpus]\n",
    "        \n",
    "        for word in set(word for text in preprocessed_corpus for word in text):\n",
    "            self._vocab[word] = self._word_idx\n",
    "            self._inverse_vocab[self._word_idx] = word\n",
    "            self._word_idx += 1\n",
    "            df = sum(1 for text in preprocessed_corpus if word in text)\n",
    "            idf[word] = math.log(len(corpus) / (1 + df)) + 1  \n",
    "        return idf\n",
    "    \n",
    "    \n",
    "    def compute(self, corpus: list[list[str]]):\n",
    "        idf = self._compute_idf(corpus)\n",
    "        tfidf = []\n",
    "        \n",
    "        for text in corpus:\n",
    "            transformed_sentese = [0] * len(self._vocab)\n",
    "            text = self.preprocessor.preprocess(text)\n",
    "            tf = self._compute_tf(text)\n",
    "            \n",
    "            for word in text:\n",
    "                transformed_sentese[self._vocab[word]] = tf[word] * idf[word]\n",
    "                \n",
    "            tfidf.append(transformed_sentese)\n",
    "            # {word: tf[word] * idf[word] for word in text}\n",
    "            \n",
    "        return tfidf\n",
    "    \n",
    "    \n",
    "    def __repr__(self):\n",
    "        return f'TFIDF(preprocessor={self.preprocessor})'\n",
    "    \n",
    "model = TFIDF()\n",
    "sentences = [\" \".join(sent) for sent in treebank.sents()[:50]] \n",
    "tfidf_vectors  = model.compute(sentences)\n",
    "np_tfidf = np.array(tfidf_vectors)"
   ]
  },
  {
   "cell_type": "code",
   "execution_count": 27,
   "metadata": {},
   "outputs": [
    {
     "data": {
      "text/plain": [
       "('Pierre Vinken , 61 years old , will join the board as a nonexecutive director Nov. 29 .',\n",
       " 'Mr. Vinken is chairman of Elsevier N.V. , the Dutch publishing group .',\n",
       " \"Nevertheless , said *T*-1 Brenda Malizia Negus , editor of Money Fund Report , yields `` may blip up again before they blip down '' because of recent rises in short-term interest rates .\")"
      ]
     },
     "execution_count": 27,
     "metadata": {},
     "output_type": "execute_result"
    }
   ],
   "source": [
    "sentences[0], sentences[1], sentences[40]"
   ]
  },
  {
   "cell_type": "code",
   "execution_count": 26,
   "metadata": {},
   "outputs": [
    {
     "data": {
      "text/plain": [
       "0.10370626536282739"
      ]
     },
     "execution_count": 26,
     "metadata": {},
     "output_type": "execute_result"
    }
   ],
   "source": [
    "import numpy \n",
    "\n",
    "np.dot(np_tfidf[0], np_tfidf[1]) / np.sqrt(np.sum((np_tfidf[0] ** 2))) * np.sqrt(np.sum((np_tfidf[1] ** 2)))\n"
   ]
  },
  {
   "cell_type": "code",
   "execution_count": 28,
   "metadata": {},
   "outputs": [
    {
     "data": {
      "text/plain": [
       "0.012428576863757396"
      ]
     },
     "execution_count": 28,
     "metadata": {},
     "output_type": "execute_result"
    }
   ],
   "source": [
    "np.dot(np_tfidf[0], np_tfidf[40]) / np.sqrt(np.sum((np_tfidf[0] ** 2))) * np.sqrt(np.sum((np_tfidf[40] ** 2)))"
   ]
  },
  {
   "cell_type": "code",
   "execution_count": null,
   "metadata": {},
   "outputs": [],
   "source": []
  }
 ],
 "metadata": {
  "kernelspec": {
   "display_name": "base",
   "language": "python",
   "name": "python3"
  },
  "language_info": {
   "codemirror_mode": {
    "name": "ipython",
    "version": 3
   },
   "file_extension": ".py",
   "mimetype": "text/x-python",
   "name": "python",
   "nbconvert_exporter": "python",
   "pygments_lexer": "ipython3",
   "version": "3.10.9"
  }
 },
 "nbformat": 4,
 "nbformat_minor": 2
}
