{
 "cells": [
  {
   "cell_type": "code",
   "execution_count": 2,
   "metadata": {},
   "outputs": [
    {
     "name": "stderr",
     "output_type": "stream",
     "text": [
      "[nltk_data] Downloading package treebank to\n",
      "[nltk_data]     /Users/nazarlenisin/nltk_data...\n",
      "[nltk_data]   Package treebank is already up-to-date!\n"
     ]
    },
    {
     "data": {
      "text/plain": [
       "True"
      ]
     },
     "execution_count": 2,
     "metadata": {},
     "output_type": "execute_result"
    }
   ],
   "source": [
    "import nltk\n",
    "import math\n",
    "from collections import Counter\n",
    "from nltk.corpus import treebank\n",
    "nltk.download(\"treebank\")"
   ]
  },
  {
   "cell_type": "code",
   "execution_count": 5,
   "metadata": {},
   "outputs": [],
   "source": [
    "from typing import Protocol\n",
    "from nltk.tokenize import word_tokenize\n",
    "\n",
    "# Introducing Interface of text preprocessor\n",
    "class TextPreprocessorI(Protocol):\n",
    "    @staticmethod\n",
    "    def preprocess(text: str) -> list[str]:\n",
    "        ...\n",
    "        \n",
    "        \n",
    "# Inplementation of concrete text preprocessor\n",
    "class TextPreprocessor:\n",
    "    @staticmethod\n",
    "    def preprocess(text: str) -> list[str]:\n",
    "        return word_tokenize(text)"
   ]
  },
  {
   "cell_type": "code",
   "execution_count": 39,
   "metadata": {},
   "outputs": [
    {
     "data": {
      "text/plain": [
       "{'Pierre': 0.2343819902704556,\n",
       " 'Vinken': 0.21185615093111312,\n",
       " ',': 0.14761156299689288,\n",
       " '61': 0.2343819902704556,\n",
       " 'years': 0.1733479742333384,\n",
       " 'old': 0.19587381357268085,\n",
       " 'will': 0.19587381357268085,\n",
       " 'join': 0.2343819902704556,\n",
       " 'the': 0.08034928347935663,\n",
       " 'board': 0.2343819902704556,\n",
       " 'as': 0.21185615093111312,\n",
       " 'a': 0.10931022368120587,\n",
       " 'nonexecutive': 0.21185615093111312,\n",
       " 'director': 0.21185615093111312,\n",
       " 'Nov.': 0.2343819902704556,\n",
       " '29': 0.2343819902704556,\n",
       " '.': 0.054455409594656674}"
      ]
     },
     "execution_count": 39,
     "metadata": {},
     "output_type": "execute_result"
    }
   ],
   "source": [
    "class TFIDF:\n",
    "    def __init__(self, preprocessor: TextPreprocessorI = TextPreprocessor):\n",
    "        self.preprocessor = preprocessor\n",
    "        \n",
    "        \n",
    "    def _compute_tf(self, text: list[str]) -> dict:\n",
    "        words = Counter(text)\n",
    "        return {word: words[word] / len(text) for word in words}\n",
    "    \n",
    "    \n",
    "    def _compute_idf(self, corpus: list[list[str]]) -> dict:\n",
    "        idf = {}\n",
    "        preprocessed_corpus = [set(self.preprocessor.preprocess(text)) for text in corpus]\n",
    "        \n",
    "        for word in set(word for text in preprocessed_corpus for word in text):\n",
    "            df = sum(1 for text in preprocessed_corpus if word in text)\n",
    "            idf[word] = math.log(len(corpus) / (1 + df)) + 1  \n",
    "        return idf\n",
    "    \n",
    "    \n",
    "    def compute(self, corpus: list[list[str]]):\n",
    "        idf = self._compute_idf(corpus)\n",
    "        tfidf = []\n",
    "        \n",
    "        for text in corpus:\n",
    "            text = self.preprocessor.preprocess(text)\n",
    "            tf = self._compute_tf(text)\n",
    "            tfidf.append({word: tf[word] * idf[word] for word in text})\n",
    "            \n",
    "        return tfidf\n",
    "    \n",
    "    \n",
    "    def __repr__(self):\n",
    "        return f'TFIDF(preprocessor={self.preprocessor})'\n",
    "    \n",
    "model = TFIDF()\n",
    "sentences = [\" \".join(sent) for sent in treebank.sents()[:50]] \n",
    "tfidf_vectors  = model.compute(sentences)\n",
    "tfidf_vectors[0]"
   ]
  },
  {
   "cell_type": "code",
   "execution_count": null,
   "metadata": {},
   "outputs": [],
   "source": []
  }
 ],
 "metadata": {
  "kernelspec": {
   "display_name": "base",
   "language": "python",
   "name": "python3"
  },
  "language_info": {
   "codemirror_mode": {
    "name": "ipython",
    "version": 3
   },
   "file_extension": ".py",
   "mimetype": "text/x-python",
   "name": "python",
   "nbconvert_exporter": "python",
   "pygments_lexer": "ipython3",
   "version": "3.10.9"
  }
 },
 "nbformat": 4,
 "nbformat_minor": 2
}
