{
 "cells": [
  {
   "cell_type": "code",
   "execution_count": 1,
   "metadata": {},
   "outputs": [
    {
     "name": "stderr",
     "output_type": "stream",
     "text": [
      "/Users/nazarlenisin/anaconda3/lib/python3.10/site-packages/pandas/core/arrays/masked.py:60: UserWarning: Pandas requires version '1.3.6' or newer of 'bottleneck' (version '1.3.5' currently installed).\n",
      "  from pandas.core import (\n"
     ]
    }
   ],
   "source": [
    "import pandas as pd\n",
    "import numpy as np\n",
    "import logging\n",
    "logging.basicConfig(\n",
    "\tlevel=logging.ERROR\n",
    ")"
   ]
  },
  {
   "cell_type": "markdown",
   "metadata": {},
   "source": [
    "# Load Data"
   ]
  },
  {
   "cell_type": "code",
   "execution_count": 2,
   "metadata": {},
   "outputs": [
    {
     "data": {
      "text/html": [
       "<div>\n",
       "<style scoped>\n",
       "    .dataframe tbody tr th:only-of-type {\n",
       "        vertical-align: middle;\n",
       "    }\n",
       "\n",
       "    .dataframe tbody tr th {\n",
       "        vertical-align: top;\n",
       "    }\n",
       "\n",
       "    .dataframe thead th {\n",
       "        text-align: right;\n",
       "    }\n",
       "</style>\n",
       "<table border=\"1\" class=\"dataframe\">\n",
       "  <thead>\n",
       "    <tr style=\"text-align: right;\">\n",
       "      <th></th>\n",
       "      <th>Sentence</th>\n",
       "      <th>Sentiment</th>\n",
       "    </tr>\n",
       "  </thead>\n",
       "  <tbody>\n",
       "    <tr>\n",
       "      <th>0</th>\n",
       "      <td>The GeoSolutions technology will leverage Bene...</td>\n",
       "      <td>positive</td>\n",
       "    </tr>\n",
       "    <tr>\n",
       "      <th>1</th>\n",
       "      <td>$ESI on lows, down $1.50 to $2.50 BK a real po...</td>\n",
       "      <td>negative</td>\n",
       "    </tr>\n",
       "    <tr>\n",
       "      <th>2</th>\n",
       "      <td>For the last quarter of 2010 , Componenta 's n...</td>\n",
       "      <td>positive</td>\n",
       "    </tr>\n",
       "    <tr>\n",
       "      <th>3</th>\n",
       "      <td>According to the Finnish-Russian Chamber of Co...</td>\n",
       "      <td>neutral</td>\n",
       "    </tr>\n",
       "    <tr>\n",
       "      <th>4</th>\n",
       "      <td>The Swedish buyout firm has sold its remaining...</td>\n",
       "      <td>neutral</td>\n",
       "    </tr>\n",
       "  </tbody>\n",
       "</table>\n",
       "</div>"
      ],
      "text/plain": [
       "                                            Sentence Sentiment\n",
       "0  The GeoSolutions technology will leverage Bene...  positive\n",
       "1  $ESI on lows, down $1.50 to $2.50 BK a real po...  negative\n",
       "2  For the last quarter of 2010 , Componenta 's n...  positive\n",
       "3  According to the Finnish-Russian Chamber of Co...   neutral\n",
       "4  The Swedish buyout firm has sold its remaining...   neutral"
      ]
     },
     "execution_count": 2,
     "metadata": {},
     "output_type": "execute_result"
    }
   ],
   "source": [
    "from NLP.Lab4.data_ingation import CSVDataIngation\n",
    "\n",
    "# initialize data loader\n",
    "data_loader = CSVDataIngation()\n",
    "\n",
    "# load data\n",
    "data = data_loader.load('/Users/nazarlenisin/Desktop/NLP_CV_UNIVERSITY/NLP/Lab4/data/data.csv')\n",
    "data.head()"
   ]
  },
  {
   "cell_type": "markdown",
   "metadata": {},
   "source": [
    "# Engineer Target"
   ]
  },
  {
   "cell_type": "code",
   "execution_count": 3,
   "metadata": {},
   "outputs": [
    {
     "data": {
      "text/html": [
       "<div>\n",
       "<style scoped>\n",
       "    .dataframe tbody tr th:only-of-type {\n",
       "        vertical-align: middle;\n",
       "    }\n",
       "\n",
       "    .dataframe tbody tr th {\n",
       "        vertical-align: top;\n",
       "    }\n",
       "\n",
       "    .dataframe thead th {\n",
       "        text-align: right;\n",
       "    }\n",
       "</style>\n",
       "<table border=\"1\" class=\"dataframe\">\n",
       "  <thead>\n",
       "    <tr style=\"text-align: right;\">\n",
       "      <th></th>\n",
       "      <th>Sentence</th>\n",
       "      <th>Sentiment</th>\n",
       "    </tr>\n",
       "  </thead>\n",
       "  <tbody>\n",
       "    <tr>\n",
       "      <th>0</th>\n",
       "      <td>The GeoSolutions technology will leverage Bene...</td>\n",
       "      <td>1</td>\n",
       "    </tr>\n",
       "    <tr>\n",
       "      <th>1</th>\n",
       "      <td>$ESI on lows, down $1.50 to $2.50 BK a real po...</td>\n",
       "      <td>0</td>\n",
       "    </tr>\n",
       "    <tr>\n",
       "      <th>2</th>\n",
       "      <td>For the last quarter of 2010 , Componenta 's n...</td>\n",
       "      <td>1</td>\n",
       "    </tr>\n",
       "    <tr>\n",
       "      <th>3</th>\n",
       "      <td>According to the Finnish-Russian Chamber of Co...</td>\n",
       "      <td>0</td>\n",
       "    </tr>\n",
       "    <tr>\n",
       "      <th>4</th>\n",
       "      <td>The Swedish buyout firm has sold its remaining...</td>\n",
       "      <td>0</td>\n",
       "    </tr>\n",
       "  </tbody>\n",
       "</table>\n",
       "</div>"
      ],
      "text/plain": [
       "                                            Sentence  Sentiment\n",
       "0  The GeoSolutions technology will leverage Bene...          1\n",
       "1  $ESI on lows, down $1.50 to $2.50 BK a real po...          0\n",
       "2  For the last quarter of 2010 , Componenta 's n...          1\n",
       "3  According to the Finnish-Russian Chamber of Co...          0\n",
       "4  The Swedish buyout firm has sold its remaining...          0"
      ]
     },
     "execution_count": 3,
     "metadata": {},
     "output_type": "execute_result"
    }
   ],
   "source": [
    "data['Sentiment'] = data['Sentiment'].apply(lambda sentiment: int(sentiment == 'positive'))\n",
    "data.head()"
   ]
  },
  {
   "cell_type": "markdown",
   "metadata": {},
   "source": [
    "# Separate feature and target"
   ]
  },
  {
   "cell_type": "code",
   "execution_count": 4,
   "metadata": {},
   "outputs": [],
   "source": [
    "from sklearn.model_selection import train_test_split\n",
    "\n",
    "X = data['Sentence']\n",
    "y = data['Sentiment']"
   ]
  },
  {
   "cell_type": "markdown",
   "metadata": {},
   "source": [
    "# Split data for train and test"
   ]
  },
  {
   "cell_type": "code",
   "execution_count": 5,
   "metadata": {},
   "outputs": [],
   "source": [
    "X_train, X_test, y_train, y_test = train_test_split(X, y, test_size=0.3, random_state=36)\n",
    "X_train, X_test, y_train, y_test = X_train.tolist(), X_test.tolist(), y_train.tolist(), y_test.tolist()\n"
   ]
  },
  {
   "cell_type": "markdown",
   "metadata": {},
   "source": [
    "# Find Optimal hyperparameters for Sentiment Model"
   ]
  },
  {
   "cell_type": "code",
   "execution_count": 6,
   "metadata": {},
   "outputs": [
    {
     "name": "stderr",
     "output_type": "stream",
     "text": [
      "[nltk_data] Downloading package punkt to\n",
      "[nltk_data]     /Users/nazarlenisin/nltk_data...\n",
      "[nltk_data]   Package punkt is already up-to-date!\n",
      "[I 2025-03-09 23:43:24,899] A new study created in memory with name: no-name-b4e41c4b-a1b8-4b38-9161-01575098ba5a\n",
      "[I 2025-03-09 23:43:30,548] Trial 3 finished with value: 0.6754135767256132 and parameters: {'dim': 110, 'window': 2, 'alpha': 0.7662749971062367, 'binarize': 7.898470537948975, 'fit_prior': True}. Best is trial 3 with value: 0.6754135767256132.\n",
      "[I 2025-03-09 23:43:30,614] Trial 2 finished with value: 0.5419281232173417 and parameters: {'dim': 75, 'window': 3, 'alpha': 0.11266132581460919, 'binarize': 5.992411918949429, 'fit_prior': False}. Best is trial 3 with value: 0.6754135767256132.\n",
      "[I 2025-03-09 23:43:32,476] Trial 1 finished with value: 0.6195094124358242 and parameters: {'dim': 173, 'window': 2, 'alpha': 0.08767802872008386, 'binarize': 0.058366363538170374, 'fit_prior': False}. Best is trial 3 with value: 0.6754135767256132.\n",
      "[I 2025-03-09 23:43:32,488] Trial 0 finished with value: 0.6468910439247005 and parameters: {'dim': 149, 'window': 3, 'alpha': 0.034591713135213406, 'binarize': 0.7193148838962471, 'fit_prior': True}. Best is trial 3 with value: 0.6754135767256132.\n",
      "[I 2025-03-09 23:43:32,780] Trial 4 finished with value: 0.5938391329150029 and parameters: {'dim': 128, 'window': 2, 'alpha': 0.08845981053720628, 'binarize': 2.854006249725275, 'fit_prior': False}. Best is trial 3 with value: 0.6754135767256132.\n"
     ]
    },
    {
     "data": {
      "text/plain": [
       "({'dim': 110,\n",
       "  'window': 2,\n",
       "  'alpha': 0.7662749971062367,\n",
       "  'binarize': 7.898470537948975,\n",
       "  'fit_prior': True},\n",
       " 0.6754135767256132)"
      ]
     },
     "execution_count": 6,
     "metadata": {},
     "output_type": "execute_result"
    }
   ],
   "source": [
    "from sklearn.naive_bayes import BernoulliNB\n",
    "from NLP.Lab4.model.model_trainer import SentimentModelOptuneTunner\n",
    "\n",
    "naive_bayes_model_hyperparams = {\n",
    "    'text_embedding_params': {'dim': ('int', (10, 200)), \n",
    "                              'window':  ('int', (2,3))},\n",
    "    'estimator_params': {'alpha': ('float', (1e-3, 1.0)), \n",
    "                         'binarize': ('float', (0.0, 10.0)), \n",
    "                         'fit_prior': ('categorical', [True, False])},\n",
    "    }\n",
    "\n",
    "naive_bayse_optimizer = SentimentModelOptuneTunner(X_train,\n",
    "                                                   y_train,\n",
    "                                                   X_test,\n",
    "                                                   y_test,\n",
    "                                                   naive_bayes_model_hyperparams,\n",
    "                                                   funcs={'estimator': BernoulliNB})\n",
    "naive_bayse_optimizer.optimize(n_trials=5)\n",
    "naive_bayse_optimizer.best_params, naive_bayse_optimizer.best_score"
   ]
  },
  {
   "cell_type": "code",
   "execution_count": 7,
   "metadata": {},
   "outputs": [
    {
     "name": "stderr",
     "output_type": "stream",
     "text": [
      "[I 2025-03-09 23:43:32,794] A new study created in memory with name: no-name-35557297-415c-4795-935a-82943e8f5806\n",
      "/Users/nazarlenisin/anaconda3/lib/python3.10/site-packages/sklearn/linear_model/_logistic.py:1173: FutureWarning: `penalty='none'`has been deprecated in 1.2 and will be removed in 1.4. To keep the past behaviour, set `penalty=None`.\n",
      "  warnings.warn(\n",
      "/Users/nazarlenisin/anaconda3/lib/python3.10/site-packages/sklearn/linear_model/_logistic.py:1173: FutureWarning: `penalty='none'`has been deprecated in 1.2 and will be removed in 1.4. To keep the past behaviour, set `penalty=None`.\n",
      "  warnings.warn(\n",
      "/Users/nazarlenisin/anaconda3/lib/python3.10/site-packages/sklearn/linear_model/_logistic.py:1173: FutureWarning: `penalty='none'`has been deprecated in 1.2 and will be removed in 1.4. To keep the past behaviour, set `penalty=None`.\n",
      "  warnings.warn(\n",
      "/Users/nazarlenisin/anaconda3/lib/python3.10/site-packages/sklearn/linear_model/_logistic.py:458: ConvergenceWarning: lbfgs failed to converge (status=1):\n",
      "STOP: TOTAL NO. of ITERATIONS REACHED LIMIT.\n",
      "\n",
      "Increase the number of iterations (max_iter) or scale the data as shown in:\n",
      "    https://scikit-learn.org/stable/modules/preprocessing.html\n",
      "Please also refer to the documentation for alternative solver options:\n",
      "    https://scikit-learn.org/stable/modules/linear_model.html#logistic-regression\n",
      "  n_iter_i = _check_optimize_result(\n",
      "[I 2025-03-09 23:43:39,279] Trial 2 finished with value: 0.6799771819737592 and parameters: {'dim': 23, 'window': 3, 'penalty': 'none'}. Best is trial 2 with value: 0.6799771819737592.\n",
      "[I 2025-03-09 23:43:39,504] Trial 1 finished with value: 0.6782658300057045 and parameters: {'dim': 48, 'window': 2, 'penalty': 'none'}. Best is trial 2 with value: 0.6799771819737592.\n",
      "[I 2025-03-09 23:43:39,756] Trial 3 finished with value: 0.6936679977181974 and parameters: {'dim': 166, 'window': 2, 'penalty': 'none'}. Best is trial 3 with value: 0.6936679977181974.\n",
      "[I 2025-03-09 23:43:39,908] Trial 0 finished with value: 0.683970336565887 and parameters: {'dim': 137, 'window': 3, 'penalty': 'l2'}. Best is trial 3 with value: 0.6936679977181974.\n",
      "/Users/nazarlenisin/anaconda3/lib/python3.10/site-packages/sklearn/linear_model/_logistic.py:1173: FutureWarning: `penalty='none'`has been deprecated in 1.2 and will be removed in 1.4. To keep the past behaviour, set `penalty=None`.\n",
      "  warnings.warn(\n",
      "/Users/nazarlenisin/anaconda3/lib/python3.10/site-packages/sklearn/linear_model/_logistic.py:458: ConvergenceWarning: lbfgs failed to converge (status=1):\n",
      "STOP: TOTAL NO. of ITERATIONS REACHED LIMIT.\n",
      "\n",
      "Increase the number of iterations (max_iter) or scale the data as shown in:\n",
      "    https://scikit-learn.org/stable/modules/preprocessing.html\n",
      "Please also refer to the documentation for alternative solver options:\n",
      "    https://scikit-learn.org/stable/modules/linear_model.html#logistic-regression\n",
      "  n_iter_i = _check_optimize_result(\n",
      "[I 2025-03-09 23:43:40,794] Trial 4 finished with value: 0.6811180832857958 and parameters: {'dim': 58, 'window': 2, 'penalty': 'none'}. Best is trial 3 with value: 0.6936679977181974.\n"
     ]
    },
    {
     "data": {
      "text/plain": [
       "({'dim': 166, 'window': 2, 'penalty': 'none'}, 0.6936679977181974)"
      ]
     },
     "execution_count": 7,
     "metadata": {},
     "output_type": "execute_result"
    }
   ],
   "source": [
    "logistic_regression_model_hyperparams = {\n",
    "    'text_embedding_params': {'dim': ('int', (10, 200)), \n",
    "                              'window':  ('int', (2,3))},\n",
    "    'estimator_params': {'penalty': ('categorical', [\"none\", \"l2\"])}\n",
    "                     }\n",
    "logistic_regression_optimizer = SentimentModelOptuneTunner(X_train, \n",
    "                                                           y_train, \n",
    "                                                           X_test, \n",
    "                                                           y_test, \n",
    "                                                           logistic_regression_model_hyperparams)\n",
    "logistic_regression_optimizer.optimize(n_trials=5)\n",
    "logistic_regression_optimizer.best_params, logistic_regression_optimizer.best_score"
   ]
  },
  {
   "cell_type": "markdown",
   "metadata": {},
   "source": [
    "# Initialize Sentiment model with best hyperparameters"
   ]
  },
  {
   "cell_type": "code",
   "execution_count": 8,
   "metadata": {},
   "outputs": [
    {
     "name": "stdout",
     "output_type": "stream",
     "text": [
      "Sentiment model:\n",
      "Pipeline: Pipeline(steps=[('text_cleaning',\n",
      "                 TextCleaningPipelineAdapter(func=SimpleTextCleaner())),\n",
      "                ('text_tokenization',\n",
      "                 TextTokenizerPipelineAdapter(func=NLTKTextTokenier(tokenizer=<function word_tokenize at 0x7fc8cf711cf0>))),\n",
      "                ('text_embedding',\n",
      "                 TextEmbeddingPipelineAdapter(func=Word2VecEmbedding(model=<class 'gensim.models.word2vec.Word2Vec'>))),\n",
      "                ('estimator', LogisticRegression(penalty='none'))])\n"
     ]
    },
    {
     "name": "stderr",
     "output_type": "stream",
     "text": [
      "/Users/nazarlenisin/anaconda3/lib/python3.10/site-packages/sklearn/linear_model/_logistic.py:1173: FutureWarning: `penalty='none'`has been deprecated in 1.2 and will be removed in 1.4. To keep the past behaviour, set `penalty=None`.\n",
      "  warnings.warn(\n",
      "/Users/nazarlenisin/anaconda3/lib/python3.10/site-packages/sklearn/linear_model/_logistic.py:458: ConvergenceWarning: lbfgs failed to converge (status=1):\n",
      "STOP: TOTAL NO. of ITERATIONS REACHED LIMIT.\n",
      "\n",
      "Increase the number of iterations (max_iter) or scale the data as shown in:\n",
      "    https://scikit-learn.org/stable/modules/preprocessing.html\n",
      "Please also refer to the documentation for alternative solver options:\n",
      "    https://scikit-learn.org/stable/modules/linear_model.html#logistic-regression\n",
      "  n_iter_i = _check_optimize_result(\n"
     ]
    },
    {
     "data": {
      "text/plain": []
     },
     "execution_count": 8,
     "metadata": {},
     "output_type": "execute_result"
    }
   ],
   "source": [
    "from NLP.Lab4.model.model_builder import SentimentModel\n",
    "\n",
    "naive_bayes_model = SentimentModel(estimator=BernoulliNB, \n",
    "                                   text_embedding_params={'dim': 153, 'window': 2},\n",
    "                                   estimator_params={'alpha': 0.7001567120116521,\n",
    "                                                     'binarize': 6.91071226059615,\n",
    "                                                     'fit_prior': True})\n",
    "naive_bayes_model.fit(X_train, y_train)\n",
    "\n",
    "\n",
    "logistic_regression_model = SentimentModel(text_embedding_params={'dim': 42, 'window': 2}, \n",
    "                                           estimator_params={'penalty': 'none'})\n",
    "logistic_regression_model.fit(X_train, y_train)"
   ]
  },
  {
   "cell_type": "markdown",
   "metadata": {},
   "source": [
    "# Evaulate Models"
   ]
  },
  {
   "cell_type": "code",
   "execution_count": 9,
   "metadata": {},
   "outputs": [],
   "source": [
    "from NLP.Lab4.model.model_evaluation import SimpleModelEvaluation\n",
    "\n",
    "model_evaluation = SimpleModelEvaluation()"
   ]
  },
  {
   "cell_type": "code",
   "execution_count": 10,
   "metadata": {},
   "outputs": [
    {
     "name": "stdout",
     "output_type": "stream",
     "text": [
      "Model to Evaluate: Sentiment model:\n",
      "Pipeline: Pipeline(steps=[('text_cleaning',\n",
      "                 TextCleaningPipelineAdapter(func=SimpleTextCleaner())),\n",
      "                ('text_tokenization',\n",
      "                 TextTokenizerPipelineAdapter(func=NLTKTextTokenier(tokenizer=<function word_tokenize at 0x7fc8cf711cf0>))),\n",
      "                ('text_embedding',\n",
      "                 TextEmbeddingPipelineAdapter(func=Word2VecEmbedding(model=<class 'gensim.models.word2vec.Word2Vec'>))),\n",
      "                ('estimator',\n",
      "                 BernoulliNB(alpha=0.7001567120116521,\n",
      "                             binarize=6.91071226059615))])\n",
      "\n",
      "Classification report:\n",
      "              precision    recall  f1-score   support\n",
      "\n",
      "           0       0.69      0.93      0.79      1210\n",
      "           1       0.34      0.08      0.13       543\n",
      "\n",
      "    accuracy                           0.67      1753\n",
      "   macro avg       0.52      0.51      0.46      1753\n",
      "weighted avg       0.58      0.67      0.59      1753\n",
      "\n"
     ]
    },
    {
     "data": {
      "image/png": "[encoded data removed]",
      "text/plain": [
       "<Figure size 400x400 with 1 Axes>"
      ]
     },
     "metadata": {},
     "output_type": "display_data"
    }
   ],
   "source": [
    "model_evaluation.evaluate(naive_bayes_model, X_test, y_test)"
   ]
  },
  {
   "cell_type": "code",
   "execution_count": 11,
   "metadata": {},
   "outputs": [
    {
     "name": "stdout",
     "output_type": "stream",
     "text": [
      "Model to Evaluate: Sentiment model:\n",
      "Pipeline: Pipeline(steps=[('text_cleaning',\n",
      "                 TextCleaningPipelineAdapter(func=SimpleTextCleaner())),\n",
      "                ('text_tokenization',\n",
      "                 TextTokenizerPipelineAdapter(func=NLTKTextTokenier(tokenizer=<function word_tokenize at 0x7fc8cf711cf0>))),\n",
      "                ('text_embedding',\n",
      "                 TextEmbeddingPipelineAdapter(func=Word2VecEmbedding(model=<class 'gensim.models.word2vec.Word2Vec'>))),\n",
      "                ('estimator', LogisticRegression(penalty='none'))])\n",
      "\n",
      "Classification report:\n",
      "              precision    recall  f1-score   support\n",
      "\n",
      "           0       0.71      0.93      0.81      1210\n",
      "           1       0.50      0.16      0.25       543\n",
      "\n",
      "    accuracy                           0.69      1753\n",
      "   macro avg       0.61      0.55      0.53      1753\n",
      "weighted avg       0.65      0.69      0.63      1753\n",
      "\n"
     ]
    },
    {
     "data": {
      "image/png": "[encoded data removed]",
      "text/plain": [
       "<Figure size 400x400 with 1 Axes>"
      ]
     },
     "metadata": {},
     "output_type": "display_data"
    }
   ],
   "source": [
    "model_evaluation.evaluate(logistic_regression_model, X_test, y_test)"
   ]
  },
  {
   "cell_type": "markdown",
   "metadata": {},
   "source": [
    "# Example Prediction"
   ]
  },
  {
   "cell_type": "code",
   "execution_count": 12,
   "metadata": {},
   "outputs": [
    {
     "name": "stdout",
     "output_type": "stream",
     "text": [
      "Text: Hello what is you name???? | Sentiment: 0\n",
      "Text: Hello what is you name???? | Sentiment: 0\n"
     ]
    }
   ],
   "source": [
    "dummy_text = 'Hello what is you name????'\n",
    "print('Text:', dummy_text, '| Sentiment:', naive_bayes_model.predict([dummy_text])[0])\n",
    "print('Text:', dummy_text, '| Sentiment:', logistic_regression_model.predict([dummy_text])[0])"
   ]
  }
 ],
 "metadata": {
  "kernelspec": {
   "display_name": "base",
   "language": "python",
   "name": "python3"
  },
  "language_info": {
   "codemirror_mode": {
    "name": "ipython",
    "version": 3
   },
   "file_extension": ".py",
   "mimetype": "text/x-python",
   "name": "python",
   "nbconvert_exporter": "python",
   "pygments_lexer": "ipython3",
   "version": "3.10.9"
  }
 },
 "nbformat": 4,
 "nbformat_minor": 2
}
