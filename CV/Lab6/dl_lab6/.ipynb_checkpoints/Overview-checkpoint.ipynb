{
 "cells": [
  {
   "cell_type": "markdown",
   "id": "52cd36fa-6a58-4290-bbfb-e63834442ef2",
   "metadata": {},
   "source": [
    "## PyTorch modules and layers\n",
    "\n",
    "### What are modules?\n",
    "Module is an abstraction somewhere between neural network *layer* and complete *model*. In PyTorch, there all kinds of things one can do with modules and their combinations.\n",
    "\n",
    "![Multiple layers are combined into modules, forming repeating patterns of larger models.](./img/blocks.svg)"
   ]
  },
  {
   "cell_type": "markdown",
   "id": "3955d842-31f5-4165-99c6-1b0e7b57b74a",
   "metadata": {},
   "source": [
    "From a programming standpoint, a module is represented by a class. Any subclass of it must:\n",
    "  - define a forward propagation method that transforms its input into output\n",
    "  - store any necessary parameters."
   ]
  },
  {
   "cell_type": "markdown",
   "id": "21c79362-d815-476e-b74d-ec4807b4ec53",
   "metadata": {},
   "source": [
    "Start with necessary imports:"
   ]
  },
  {
   "cell_type": "code",
   "execution_count": 1,
   "id": "009f256d-2d7f-4792-8dce-0207fea30075",
   "metadata": {},
   "outputs": [],
   "source": [
    "import torch\n",
    "from torch import nn\n",
    "from torch.nn import functional as F"
   ]
  },
  {
   "cell_type": "markdown",
   "id": "7094c0d0-18eb-439b-8186-5a28c349ddde",
   "metadata": {},
   "source": [
    "### Module chaining\n",
    "We can use a built-in `Sequential` function to chain layers together. The below code creates a hidden layer with 256 neurons and ReLU activation function, and an output layer with 10 neurons:"
   ]
  },
  {
   "cell_type": "code",
   "execution_count": 2,
   "id": "7b94a2cc-6661-4bb9-868a-73493fd075c6",
   "metadata": {},
   "outputs": [
    {
     "name": "stderr",
     "output_type": "stream",
     "text": [
      "/Users/vitvly/c/lnu/venv/lib/python3.12/site-packages/torch/nn/modules/lazy.py:181: UserWarning: Lazy modules are a new feature under heavy development so changes to the API or functionality can happen at any moment.\n",
      "  warnings.warn('Lazy modules are a new feature under heavy development '\n"
     ]
    },
    {
     "data": {
      "text/plain": [
       "torch.Size([2, 10])"
      ]
     },
     "execution_count": 2,
     "metadata": {},
     "output_type": "execute_result"
    }
   ],
   "source": [
    "net = nn.Sequential(nn.LazyLinear(256), nn.ReLU(), nn.LazyLinear(10))\n",
    "\n",
    "X = torch.rand(2, 20)\n",
    "net(X).shape"
   ]
  },
  {
   "cell_type": "markdown",
   "id": "00c38b8d-e353-476a-9c99-3cd4264209a6",
   "metadata": {},
   "source": [
    "### Forward propagation\n",
    "**Important**: to use the model, we pass it the input data (`net(X)` in the above example). This executes the model's forward, along with some background operations.\n",
    "\n",
    "`net(X)` is actually just shorthand for `net.__call__(X)`. `LazyLinear` is a version of `Linear` that *infers* output dimensions."
   ]
  },
  {
   "cell_type": "code",
   "execution_count": 3,
   "id": "ef08a5c9-9085-4bc0-8d5e-4056ed3e54ed",
   "metadata": {},
   "outputs": [
    {
     "data": {
      "text/plain": [
       "torch.Size([2, 20])"
      ]
     },
     "execution_count": 3,
     "metadata": {},
     "output_type": "execute_result"
    }
   ],
   "source": [
    "X.shape"
   ]
  },
  {
   "cell_type": "markdown",
   "id": "51ad4a09-414d-4307-b5f8-1d9bfa6440b6",
   "metadata": {},
   "source": [
    "### Create a module from scratch\n",
    "In the following snippet, we code up a module from scratch corresponding to an MLP with one hidden layer with 256 hidden units, and a 10- dimensional output layer. Note that the MLP class below inherits the class that represents a module. We will heavily rely on the parent class’s methods, supplying only our own constructor (the __init__ method in Python) and the forward propagation method."
   ]
  },
  {
   "cell_type": "code",
   "execution_count": 5,
   "id": "e824413e-ed71-4ed2-912d-5eda53d1ea37",
   "metadata": {},
   "outputs": [],
   "source": [
    "class MLP(nn.Module):\n",
    "    def __init__(self):\n",
    "        # Call the constructor of the parent class nn.Module to perform\n",
    "        # the necessary initialization\n",
    "        super().__init__()\n",
    "        self.hidden = nn.LazyLinear(256)\n",
    "        self.out = nn.LazyLinear(10)\n",
    "\n",
    "    # Define the forward propagation of the model, that is, how to return the\n",
    "    # required model output based on the input X\n",
    "    def forward(self, X):\n",
    "        return self.out(F.relu(self.hidden(X)))"
   ]
  },
  {
   "cell_type": "markdown",
   "id": "8845d5d3-4d60-4331-9c80-289bf739274f",
   "metadata": {},
   "source": [
    "Let’s first focus on the forward propagation method. Note that it takes X as input, calculates the hidden representation with the activation function applied, and outputs its logits. In this MLP implementation, both layers are instance variables. To see why this is reasonable, imagine instantiating two MLPs, net1 and net2, and training them on different data. Naturally, we would expect them to represent two different learned models."
   ]
  },
  {
   "cell_type": "code",
   "execution_count": 6,
   "id": "bb4a1e68-72bb-4d1c-9ff7-92ca972e7923",
   "metadata": {},
   "outputs": [
    {
     "data": {
      "text/plain": [
       "torch.Size([2, 10])"
      ]
     },
     "execution_count": 6,
     "metadata": {},
     "output_type": "execute_result"
    }
   ],
   "source": [
    "net = MLP()\n",
    "net(X).shape"
   ]
  },
  {
   "cell_type": "markdown",
   "id": "5b6d81a0-2fa9-46e3-8091-cf78b350785b",
   "metadata": {},
   "source": [
    "**So**: a module can abstract layers, complete models, or anything in-between."
   ]
  },
  {
   "cell_type": "markdown",
   "id": "acf303a1-63ef-4c1d-bcdc-ebd8e3aa7306",
   "metadata": {},
   "source": [
    "### Writing your own `Sequential`\n",
    "\n",
    "We need to define two key methods:\n",
    "\n",
    "1. A method for appending modules one by one to a list.\n",
    "2. A forward propagation method for passing an input through the chain of modules, in the same order as they were appended.\n"
   ]
  },
  {
   "cell_type": "code",
   "execution_count": 7,
   "id": "36232efc-63b0-4d6a-a32d-30983e09f7d8",
   "metadata": {},
   "outputs": [],
   "source": [
    "class MySequential(nn.Module):\n",
    "    def __init__(self, *args):\n",
    "        super().__init__()\n",
    "        for idx, module in enumerate(args):\n",
    "            self.add_module(str(idx), module)\n",
    "\n",
    "    def forward(self, X):\n",
    "        for module in self.children():\n",
    "            X = module(X)\n",
    "        return X"
   ]
  },
  {
   "cell_type": "markdown",
   "id": "ea71238b-f244-4ea8-8c4d-cca487f69fb1",
   "metadata": {},
   "source": [
    "Note `add_module` and `children` funcs.\n",
    "\n",
    "Now we can use it:"
   ]
  },
  {
   "cell_type": "code",
   "execution_count": 8,
   "id": "e0984f53-1798-450b-97f6-9f053bfa7635",
   "metadata": {},
   "outputs": [
    {
     "data": {
      "text/plain": [
       "torch.Size([2, 10])"
      ]
     },
     "execution_count": 8,
     "metadata": {},
     "output_type": "execute_result"
    }
   ],
   "source": [
    "net = MySequential(nn.LazyLinear(256), nn.ReLU(), nn.LazyLinear(10))\n",
    "net(X).shape"
   ]
  },
  {
   "cell_type": "markdown",
   "id": "7594c962-1843-44a5-bb95-d288e09f1c73",
   "metadata": {},
   "source": [
    "### Executing Code in the Forward Propagation Method\n",
    "\n",
    "The `Sequential` class makes model construction easy,\n",
    "allowing us to assemble new architectures\n",
    "without having to define our own class.\n",
    "However, not all architectures are simple daisy chains.\n",
    "When greater flexibility is required,\n",
    "we will want to define our own blocks.\n",
    "For example, we might want to execute\n",
    "Python's control flow within the forward propagation method.\n",
    "Moreover, we might want to perform\n",
    "arbitrary mathematical operations,\n",
    "not simply relying on predefined neural network layers.\n",
    "\n",
    "You may have noticed that until now,\n",
    "all of the operations in our networks\n",
    "have acted upon our network's activations\n",
    "and its parameters.\n",
    "Sometimes, however, we might want to\n",
    "incorporate terms\n",
    "that are neither the result of previous layers\n",
    "nor updatable parameters.\n",
    "We call these *constant parameters*.\n",
    "Say for example that we want a layer\n",
    "that calculates the function\n",
    "$f(\\mathbf{x},\\mathbf{w}) = c \\cdot \\mathbf{w}^\\top \\mathbf{x}$,\n",
    "where $\\mathbf{x}$ is the input, $\\mathbf{w}$ is our parameter,\n",
    "and $c$ is some specified constant\n",
    "that is not updated during optimization.\n",
    "So we implement a `FixedHiddenMLP` class as follows."
   ]
  },
  {
   "cell_type": "code",
   "execution_count": 9,
   "id": "aee35bc6-88e6-4c40-9127-4c66611d441d",
   "metadata": {},
   "outputs": [],
   "source": [
    "class FixedHiddenMLP(nn.Module):\n",
    "    def __init__(self):\n",
    "        super().__init__()\n",
    "        # Random weight parameters that will not compute gradients and\n",
    "        # therefore keep constant during training\n",
    "        self.rand_weight = torch.rand((20, 20))\n",
    "        self.linear = nn.LazyLinear(20)\n",
    "\n",
    "    def forward(self, X):\n",
    "        X = self.linear(X)\n",
    "        X = F.relu(X @ self.rand_weight + 1)\n",
    "        # Reuse the fully connected layer. This is equivalent to sharing\n",
    "        # parameters with two fully connected layers\n",
    "        X = self.linear(X)\n",
    "        # Control flow\n",
    "        while X.abs().sum() > 1:\n",
    "            X /= 2\n",
    "        return X.sum()"
   ]
  },
  {
   "cell_type": "markdown",
   "id": "5b3d7933-b614-4297-9f3f-38576e35d52a",
   "metadata": {},
   "source": [
    "In this model,\n",
    "we implement a hidden layer whose weights\n",
    "(`self.rand_weight`) are initialized randomly\n",
    "at instantiation and are thereafter constant.\n",
    "This weight is not a model parameter\n",
    "and thus it is never updated by backpropagation.\n",
    "The network then passes the output of this \"fixed\" layer\n",
    "through a fully connected layer.\n",
    "\n",
    "Note that before returning the output,\n",
    "our model did something unusual.\n",
    "We ran a while-loop, testing\n",
    "on the condition its $\\ell_1$ norm is larger than $1$,\n",
    "and dividing our output vector by $2$\n",
    "until it satisfied the condition.\n",
    "Finally, we returned the sum of the entries in `X`.\n",
    "To our knowledge, no standard neural network\n",
    "performs this operation.\n",
    "Note that this particular operation may not be useful\n",
    "in any real-world task.\n",
    "Our point is only to show you how to integrate\n",
    "arbitrary code into the flow of your\n",
    "neural network computations."
   ]
  },
  {
   "cell_type": "code",
   "execution_count": 10,
   "id": "15c7a145-4a67-4c0d-a1c9-7f7a10783ee9",
   "metadata": {},
   "outputs": [
    {
     "data": {
      "text/plain": [
       "tensor(-0.0927, grad_fn=<SumBackward0>)"
      ]
     },
     "execution_count": 10,
     "metadata": {},
     "output_type": "execute_result"
    }
   ],
   "source": [
    "net = FixedHiddenMLP()\n",
    "net(X)"
   ]
  },
  {
   "cell_type": "markdown",
   "id": "1718c62f-71a0-4178-b332-24baf27b8866",
   "metadata": {},
   "source": [
    "We can mix and match various ways of assembling modules together. In the following example, we nest modules in some creative ways."
   ]
  },
  {
   "cell_type": "code",
   "execution_count": 11,
   "id": "ec0b3fcb-bd1d-47ff-98ee-58ee6d852b95",
   "metadata": {},
   "outputs": [
    {
     "data": {
      "text/plain": [
       "tensor(-0.0372, grad_fn=<SumBackward0>)"
      ]
     },
     "execution_count": 11,
     "metadata": {},
     "output_type": "execute_result"
    }
   ],
   "source": [
    "class NestMLP(nn.Module):\n",
    "    def __init__(self):\n",
    "        super().__init__()\n",
    "        self.net = nn.Sequential(nn.LazyLinear(64), nn.ReLU(),\n",
    "                                 nn.LazyLinear(32), nn.ReLU())\n",
    "        self.linear = nn.LazyLinear(16)\n",
    "\n",
    "    def forward(self, X):\n",
    "        return self.linear(self.net(X))\n",
    "\n",
    "chimera = nn.Sequential(NestMLP(), nn.LazyLinear(20), FixedHiddenMLP())\n",
    "chimera(X)"
   ]
  },
  {
   "cell_type": "markdown",
   "id": "94ed6645-5c20-431e-ad47-4f119fad59fa",
   "metadata": {},
   "source": [
    "### Parameters\n",
    "Once we have chosen an architecture\n",
    "and set our hyperparameters,\n",
    "we proceed to the training loop,\n",
    "where our goal is to find parameter values\n",
    "that minimize our loss function.\n",
    "After training, we will need these parameters\n",
    "in order to make future predictions.\n",
    "Additionally, we will sometimes wish\n",
    "to extract the parameters\n",
    "perhaps to reuse them in some other context,\n",
    "to save our model to disk so that\n",
    "it may be executed in other software,\n",
    "or for examination in the hope of\n",
    "gaining scientific understanding.\n",
    "\n",
    "Most of the time, we will be able\n",
    "to ignore the nitty-gritty details\n",
    "of how parameters are declared\n",
    "and manipulated, relying on deep learning frameworks\n",
    "to do the heavy lifting.\n",
    "However, when we move away from\n",
    "stacked architectures with standard layers,\n",
    "we will sometimes need to get into the weeds\n",
    "of declaring and manipulating parameters.\n",
    "In this section, we cover the following:\n",
    "\n",
    "* Accessing parameters for debugging, diagnostics, and visualizations.\n",
    "* Sharing parameters across different model components.\n",
    "\n",
    "Let's use an MLP with one hidden layer:"
   ]
  },
  {
   "cell_type": "code",
   "execution_count": 12,
   "id": "0fe8a590-2758-4ccf-a9bd-3308117b35a2",
   "metadata": {},
   "outputs": [
    {
     "data": {
      "text/plain": [
       "torch.Size([2, 1])"
      ]
     },
     "execution_count": 12,
     "metadata": {},
     "output_type": "execute_result"
    }
   ],
   "source": [
    "net = nn.Sequential(nn.LazyLinear(8),\n",
    "                    nn.ReLU(),\n",
    "                    nn.LazyLinear(1))\n",
    "\n",
    "X = torch.rand(size=(2, 4))\n",
    "net(X).shape"
   ]
  },
  {
   "cell_type": "code",
   "execution_count": 13,
   "id": "8d166a42-7117-470e-9324-fcde37d10ca2",
   "metadata": {},
   "outputs": [
    {
     "data": {
      "text/plain": [
       "tensor([[0.9115, 0.0076, 0.9130, 0.5526],\n",
       "        [0.8278, 0.5768, 0.4335, 0.9195]])"
      ]
     },
     "execution_count": 13,
     "metadata": {},
     "output_type": "execute_result"
    }
   ],
   "source": [
    "X"
   ]
  },
  {
   "cell_type": "markdown",
   "id": "7b626984-f02f-408d-9ff4-63cde5d51ed6",
   "metadata": {},
   "source": [
    "How do we access each layer's parameters? Via indexing."
   ]
  },
  {
   "cell_type": "code",
   "execution_count": 14,
   "id": "7208f765-47b0-4db4-b062-35e09ab42b46",
   "metadata": {},
   "outputs": [
    {
     "data": {
      "text/plain": [
       "OrderedDict([('weight',\n",
       "              tensor([[-0.0183,  0.3870, -0.2040,  0.0717],\n",
       "                      [ 0.1458, -0.0859,  0.2069,  0.2637],\n",
       "                      [-0.2945, -0.2401, -0.3396,  0.2305],\n",
       "                      [ 0.4191,  0.0287,  0.1496,  0.3437],\n",
       "                      [ 0.1940, -0.3434,  0.3518, -0.0019],\n",
       "                      [-0.0900, -0.2687, -0.3844, -0.2733],\n",
       "                      [ 0.0920,  0.1358,  0.1338,  0.2469],\n",
       "                      [-0.2650,  0.1078,  0.1739,  0.4290]])),\n",
       "             ('bias',\n",
       "              tensor([ 0.1277, -0.0532, -0.4663,  0.2466,  0.0950,  0.2718,  0.0333,  0.0969]))])"
      ]
     },
     "execution_count": 14,
     "metadata": {},
     "output_type": "execute_result"
    }
   ],
   "source": [
    "net[0].state_dict()"
   ]
  },
  {
   "cell_type": "code",
   "execution_count": 16,
   "id": "18b76f87-fc49-4d6c-adab-e1229742cd2a",
   "metadata": {},
   "outputs": [
    {
     "data": {
      "text/plain": [
       "OrderedDict()"
      ]
     },
     "execution_count": 16,
     "metadata": {},
     "output_type": "execute_result"
    }
   ],
   "source": [
    "net[1].state_dict()"
   ]
  },
  {
   "cell_type": "markdown",
   "id": "ecfc73fb-d2bb-4790-bf88-0610ce02bd68",
   "metadata": {},
   "source": [
    "Note that parameters (weights/bias) are instances of a `torch.nn.parameter.Parameter` class."
   ]
  },
  {
   "cell_type": "code",
   "execution_count": 17,
   "id": "0ce71956-0d70-4d66-b2aa-d646a57a88cf",
   "metadata": {},
   "outputs": [
    {
     "data": {
      "text/plain": [
       "Parameter containing:\n",
       "tensor([[-0.0525,  0.1042, -0.0926,  0.1791, -0.0729, -0.1096,  0.2528, -0.2295]],\n",
       "       requires_grad=True)"
      ]
     },
     "execution_count": 17,
     "metadata": {},
     "output_type": "execute_result"
    }
   ],
   "source": [
    "net[2].weight"
   ]
  },
  {
   "cell_type": "markdown",
   "id": "129bbfaf-cf3b-4fdb-836d-89999526a02e",
   "metadata": {},
   "source": [
    "We can use `data` field in order to extract actual data:"
   ]
  },
  {
   "cell_type": "code",
   "execution_count": 18,
   "id": "49b5c519-9cbd-489b-9b5e-1058d1bbe075",
   "metadata": {},
   "outputs": [
    {
     "data": {
      "text/plain": [
       "tensor([[-0.0525,  0.1042, -0.0926,  0.1791, -0.0729, -0.1096,  0.2528, -0.2295]])"
      ]
     },
     "execution_count": 18,
     "metadata": {},
     "output_type": "execute_result"
    }
   ],
   "source": [
    "net[2].weight.data"
   ]
  },
  {
   "cell_type": "code",
   "execution_count": 19,
   "id": "a283ef3f-045b-4043-8154-d975e0150947",
   "metadata": {},
   "outputs": [
    {
     "data": {
      "text/plain": [
       "torch.Size([1, 8])"
      ]
     },
     "execution_count": 19,
     "metadata": {},
     "output_type": "execute_result"
    }
   ],
   "source": [
    "net[2].weight.shape"
   ]
  },
  {
   "cell_type": "code",
   "execution_count": 20,
   "id": "fd1d3012-1556-4fe6-9c25-dba619b0062c",
   "metadata": {},
   "outputs": [
    {
     "data": {
      "text/plain": [
       "torch.Size([8, 4])"
      ]
     },
     "execution_count": 20,
     "metadata": {},
     "output_type": "execute_result"
    }
   ],
   "source": [
    "net[0].weight.shape"
   ]
  },
  {
   "cell_type": "markdown",
   "id": "34a46d7b-ae83-485a-acd3-47865e5db528",
   "metadata": {},
   "source": [
    "We can also access gradients for each layer:"
   ]
  },
  {
   "cell_type": "code",
   "execution_count": 21,
   "id": "92748a77-d83c-4333-982e-88782db78f1d",
   "metadata": {},
   "outputs": [
    {
     "data": {
      "text/plain": [
       "True"
      ]
     },
     "execution_count": 21,
     "metadata": {},
     "output_type": "execute_result"
    }
   ],
   "source": [
    "net[2].weight.grad == None"
   ]
  },
  {
   "cell_type": "markdown",
   "id": "c7586896-42c5-433b-bcdc-fb2d78bb2965",
   "metadata": {},
   "source": [
    "We can also access parameters all at once via `nn.Module.named_parameters()`:"
   ]
  },
  {
   "cell_type": "code",
   "execution_count": 22,
   "id": "280ff598-6c7a-4c0f-9991-253e6f62c551",
   "metadata": {},
   "outputs": [
    {
     "data": {
      "text/plain": [
       "[('0.weight', torch.Size([8, 4])),\n",
       " ('0.bias', torch.Size([8])),\n",
       " ('2.weight', torch.Size([1, 8])),\n",
       " ('2.bias', torch.Size([1]))]"
      ]
     },
     "execution_count": 22,
     "metadata": {},
     "output_type": "execute_result"
    }
   ],
   "source": [
    "[(name, param.shape) for name, param in net.named_parameters()]"
   ]
  },
  {
   "cell_type": "markdown",
   "id": "6bb65aae-bfb7-475e-81e5-55029fe3a9b4",
   "metadata": {},
   "source": [
    "We can also tie or connect/share parameters in different layers.\n",
    "\n",
    "In the following we allocate a fully connected layer\n",
    "and then use its parameters specifically\n",
    "to set those of another layer.\n",
    "Here we need to run the forward propagation\n",
    "`net(X)` before accessing the parameters."
   ]
  },
  {
   "cell_type": "code",
   "execution_count": 23,
   "id": "ef26c0f2-a5a5-4757-afa6-5528ea52030d",
   "metadata": {},
   "outputs": [
    {
     "name": "stdout",
     "output_type": "stream",
     "text": [
      "tensor([True, True, True, True, True, True, True, True])\n",
      "tensor([True, True, True, True, True, True, True, True])\n"
     ]
    }
   ],
   "source": [
    "# We need to give the shared layer a name so that we can refer to its\n",
    "# parameters\n",
    "shared = nn.LazyLinear(8)\n",
    "net = nn.Sequential(nn.LazyLinear(8), nn.ReLU(),\n",
    "                    shared, nn.ReLU(),\n",
    "                    shared, nn.ReLU(),\n",
    "                    nn.LazyLinear(1))\n",
    "\n",
    "net(X)\n",
    "# Check whether the parameters are the same\n",
    "print(net[2].weight.data[0] == net[4].weight.data[0])\n",
    "net[2].weight.data[0, 0] = 100\n",
    "# Make sure that they are actually the same object rather than just having the\n",
    "# same value\n",
    "print(net[2].weight.data[0] == net[4].weight.data[0])"
   ]
  },
  {
   "cell_type": "markdown",
   "id": "95c9c4a0-c91e-4ca5-847c-22a757bf6381",
   "metadata": {},
   "source": [
    "This example shows that the parameters\n",
    "of the second and third layer are tied.\n",
    "They are not just equal, they are\n",
    "represented by the same exact tensor.\n",
    "Thus, if we change one of the parameters,\n",
    "the other one changes, too.\n",
    "\n",
    "You might wonder,\n",
    "when parameters are tied\n",
    "what happens to the gradients?\n",
    "Since the model parameters contain gradients,\n",
    "the gradients of the second hidden layer\n",
    "and the third hidden layer are added together\n",
    "during backpropagation.\n",
    "\n"
   ]
  },
  {
   "cell_type": "markdown",
   "id": "8d8f9c29-3e21-4fff-9d4b-82713730eb59",
   "metadata": {},
   "source": [
    "### Initialization\n",
    "\n",
    "By default, PyTorch initializes weight and bias matrices uniformly by drawing from a range that is computed according to the input and output dimension. PyTorch’s nn.init module provides a variety of preset initialization methods.\n",
    "\n",
    "Let's start with a sample neural network built with `nn.Sequential`."
   ]
  },
  {
   "cell_type": "code",
   "execution_count": 24,
   "id": "be23bc30-95af-46fc-99b3-450030659984",
   "metadata": {},
   "outputs": [
    {
     "data": {
      "text/plain": [
       "torch.Size([2, 1])"
      ]
     },
     "execution_count": 24,
     "metadata": {},
     "output_type": "execute_result"
    }
   ],
   "source": [
    "net = nn.Sequential(nn.LazyLinear(8), nn.ReLU(), nn.LazyLinear(1))\n",
    "X = torch.rand(size=(2, 4))\n",
    "net(X).shape"
   ]
  },
  {
   "cell_type": "markdown",
   "id": "de35b2f8-8287-432e-a656-817e36062f2b",
   "metadata": {},
   "source": [
    "### Built-in initializers\n",
    "\n",
    "This code will initialize weights as Guassian random variables, and biases will be 0. The `apply` method applies the given function recursively to each submodule:"
   ]
  },
  {
   "cell_type": "code",
   "execution_count": 25,
   "id": "5d078f42-0fd6-482c-808f-afea9c995109",
   "metadata": {},
   "outputs": [
    {
     "data": {
      "text/plain": [
       "(tensor([-0.0004,  0.0164,  0.0046,  0.0032]), tensor(0.))"
      ]
     },
     "execution_count": 25,
     "metadata": {},
     "output_type": "execute_result"
    }
   ],
   "source": [
    "def init_normal(module):\n",
    "    if type(module) == nn.Linear:\n",
    "        nn.init.normal_(module.weight, mean=0, std=0.01)\n",
    "        nn.init.zeros_(module.bias)\n",
    "\n",
    "net.apply(init_normal)\n",
    "net[0].weight.data[0], net[0].bias.data[0]"
   ]
  },
  {
   "cell_type": "markdown",
   "id": "cb362fac-dbda-4ab3-bae5-058d7599908e",
   "metadata": {},
   "source": [
    "Or we can use constants:"
   ]
  },
  {
   "cell_type": "code",
   "execution_count": 26,
   "id": "37a98316-d0ee-4596-95da-a25989dec4e7",
   "metadata": {},
   "outputs": [
    {
     "data": {
      "text/plain": [
       "(tensor([1., 1., 1., 1.]), tensor(0.))"
      ]
     },
     "execution_count": 26,
     "metadata": {},
     "output_type": "execute_result"
    }
   ],
   "source": [
    "def init_constant(module):\n",
    "    if type(module) == nn.Linear:\n",
    "        nn.init.constant_(module.weight, 1)\n",
    "        nn.init.zeros_(module.bias)\n",
    "\n",
    "net.apply(init_constant)\n",
    "net[0].weight.data[0], net[0].bias.data[0]"
   ]
  },
  {
   "cell_type": "markdown",
   "id": "e804dd21-9c49-4195-bca1-71f779d00b02",
   "metadata": {},
   "source": [
    "We can use indexing to initialize parameters for each layer separately:"
   ]
  },
  {
   "cell_type": "code",
   "execution_count": 27,
   "id": "cd6aa9b3-e087-48cb-baae-08c11dbe2fec",
   "metadata": {},
   "outputs": [
    {
     "name": "stdout",
     "output_type": "stream",
     "text": [
      "tensor([ 0.3879, -0.2433, -0.4484, -0.6833])\n",
      "tensor([[42., 42., 42., 42., 42., 42., 42., 42.]])\n"
     ]
    }
   ],
   "source": [
    "def init_xavier(module):\n",
    "    if type(module) == nn.Linear:\n",
    "        nn.init.xavier_uniform_(module.weight)\n",
    "\n",
    "def init_42(module):\n",
    "    if type(module) == nn.Linear:\n",
    "        nn.init.constant_(module.weight, 42)\n",
    "\n",
    "net[0].apply(init_xavier)\n",
    "net[2].apply(init_42)\n",
    "print(net[0].weight.data[0])\n",
    "print(net[2].weight.data)"
   ]
  },
  {
   "cell_type": "markdown",
   "id": "c7b55dd2-67e4-4551-abc2-aaeb83429bbc",
   "metadata": {},
   "source": [
    "Sometimes, the initialization methods we need\n",
    "are not provided by the deep learning framework.\n",
    "In the example below, we define an initializer\n",
    "for any weight parameter $w$ using the following strange distribution (here $U$ stands for uniform distribution):\n",
    "\n",
    "$$\n",
    "\\begin{aligned}\n",
    "    w \\sim \\begin{cases}\n",
    "        U(5, 10) & \\textrm{ with probability } \\frac{1}{4} \\\\\n",
    "            0    & \\textrm{ with probability } \\frac{1}{2} \\\\\n",
    "        U(-10, -5) & \\textrm{ with probability } \\frac{1}{4}\n",
    "    \\end{cases}\n",
    "\\end{aligned}\n",
    "$$\n"
   ]
  },
  {
   "cell_type": "code",
   "execution_count": 28,
   "id": "24cd78f1-0179-4cca-a203-18b9d987030b",
   "metadata": {},
   "outputs": [
    {
     "name": "stdout",
     "output_type": "stream",
     "text": [
      "Init weight torch.Size([8, 4])\n",
      "Init weight torch.Size([1, 8])\n"
     ]
    },
    {
     "data": {
      "text/plain": [
       "tensor([[ 6.3284, -0.0000,  0.0000,  6.5482],\n",
       "        [-0.0000, -9.7028, -0.0000, -0.0000]], grad_fn=<SliceBackward0>)"
      ]
     },
     "execution_count": 28,
     "metadata": {},
     "output_type": "execute_result"
    }
   ],
   "source": [
    "def my_init(module):\n",
    "    if type(module) == nn.Linear:\n",
    "        print(\"Init\", *[(name, param.shape)\n",
    "                        for name, param in module.named_parameters()][0])\n",
    "        nn.init.uniform_(module.weight, -10, 10)\n",
    "        module.weight.data *= module.weight.data.abs() >= 5\n",
    "\n",
    "net.apply(my_init)\n",
    "net[0].weight[:2]"
   ]
  },
  {
   "cell_type": "markdown",
   "id": "68eefa29-b8fd-4aeb-a259-8f87cac43d1f",
   "metadata": {},
   "source": [
    "And, of course, we can always set the parameters directly:"
   ]
  },
  {
   "cell_type": "code",
   "execution_count": 29,
   "id": "02fee178-4573-4422-aceb-863763988b94",
   "metadata": {},
   "outputs": [
    {
     "data": {
      "text/plain": [
       "tensor([42.0000,  1.0000,  1.0000,  7.5482])"
      ]
     },
     "execution_count": 29,
     "metadata": {},
     "output_type": "execute_result"
    }
   ],
   "source": [
    "net[0].weight.data[:] += 1\n",
    "net[0].weight.data[0, 0] = 42\n",
    "net[0].weight.data[0]"
   ]
  },
  {
   "cell_type": "markdown",
   "id": "cbe3f9b2-0ec4-4555-827a-1506b7c37097",
   "metadata": {},
   "source": [
    "Or in model class constructor:"
   ]
  },
  {
   "cell_type": "code",
   "execution_count": null,
   "id": "7aeb3be9-5835-4870-8df1-2def58908c86",
   "metadata": {},
   "outputs": [],
   "source": [
    "class LinearRegressionModel(nn.Module):\n",
    "    def __init__(self):\n",
    "        super().__init__() \n",
    "        self.weights = nn.Parameter(torch.randn(1, # <- start with random weights (this will get adjusted as the model learns)\n",
    "                                                dtype=torch.float), # <- PyTorch loves float32 by default\n",
    "                                   requires_grad=True) # <- can we update this value with gradient descent?)\n",
    "\n",
    "        self.bias = nn.Parameter(torch.randn(1, # <- start with random bias (this will get adjusted as the model learns)\n",
    "                                            dtype=torch.float), # <- PyTorch loves float32 by default\n",
    "                                requires_grad=True) # <- can we update this value with gradient descent?))\n",
    "\n",
    "    # Forward defines the computation in the model\n",
    "    def forward(self, x: torch.Tensor) -> torch.Tensor: # <- \"x\" is the input data (e.g. training/testing features)\n",
    "        return self.weights * x + self.bias # <- this is the linear regression formula (y = m*x + b)\n",
    "\n"
   ]
  },
  {
   "cell_type": "markdown",
   "id": "769aa889-d479-4051-8795-a3ad95511b72",
   "metadata": {},
   "source": [
    "### Lazy initialization\n",
    "\n",
    "PyTorch can defer parameter initialization, waiting until the first time we pass data through the model, to infer the sizes of each layer on the fly.\n",
    "\n",
    "Later on, when working with convolutional neural networks, this technique will become even more convenient since the input dimensionality (e.g., the resolution of an image) will affect the dimensionality of each subsequent layer.\n",
    "\n",
    "Let's create some perceptron again:"
   ]
  },
  {
   "cell_type": "code",
   "execution_count": 30,
   "id": "ea1b347b-a7e5-4b6f-af39-9d522904f27c",
   "metadata": {},
   "outputs": [],
   "source": [
    "net = nn.Sequential(nn.LazyLinear(256), nn.ReLU(), nn.LazyLinear(10))"
   ]
  },
  {
   "cell_type": "markdown",
   "id": "ab6ab599-6d9e-458e-9572-0c49362e606f",
   "metadata": {},
   "source": [
    "Check first layer params:"
   ]
  },
  {
   "cell_type": "code",
   "execution_count": 31,
   "id": "a448bcc7-5759-433d-a365-cb209934583e",
   "metadata": {},
   "outputs": [
    {
     "data": {
      "text/plain": [
       "<UninitializedParameter>"
      ]
     },
     "execution_count": 31,
     "metadata": {},
     "output_type": "execute_result"
    }
   ],
   "source": [
    "net[0].weight"
   ]
  },
  {
   "cell_type": "markdown",
   "id": "f7b5d88e-fad4-42e7-8a4e-c89d0b736e62",
   "metadata": {},
   "source": [
    "We can pass some data:"
   ]
  },
  {
   "cell_type": "code",
   "execution_count": 32,
   "id": "d42255e9-35f3-4e51-95d0-42a53d1c10f2",
   "metadata": {},
   "outputs": [
    {
     "data": {
      "text/plain": [
       "torch.Size([256, 20])"
      ]
     },
     "execution_count": 32,
     "metadata": {},
     "output_type": "execute_result"
    }
   ],
   "source": [
    "X = torch.rand(2, 20)\n",
    "net(X)\n",
    "\n",
    "net[0].weight.shape"
   ]
  },
  {
   "cell_type": "markdown",
   "id": "6f6da710-892e-470b-88fc-42e96f5a8a3a",
   "metadata": {},
   "source": [
    "### Custom layers"
   ]
  },
  {
   "cell_type": "markdown",
   "id": "2931d155-3ead-4870-afe7-4c34e566ca43",
   "metadata": {},
   "source": [
    "Let's first try a layer without parameters:"
   ]
  },
  {
   "cell_type": "code",
   "execution_count": 34,
   "id": "54fb24d6-05dc-4d9b-884f-80cd6988f0b1",
   "metadata": {},
   "outputs": [],
   "source": [
    "class CenteredLayer(nn.Module):\n",
    "    def __init__(self):\n",
    "        super().__init__()\n",
    "\n",
    "    def forward(self, X):\n",
    "        return X - X.mean()"
   ]
  },
  {
   "cell_type": "markdown",
   "id": "16c74142-9ebe-42b9-973a-1f3826f32987",
   "metadata": {},
   "source": [
    "Let's see if it works:"
   ]
  },
  {
   "cell_type": "code",
   "execution_count": 35,
   "id": "95c96fe2-d4b3-47d3-aff1-25dbb35df111",
   "metadata": {},
   "outputs": [
    {
     "data": {
      "text/plain": [
       "tensor([-2., -1.,  0.,  1.,  2.])"
      ]
     },
     "execution_count": 35,
     "metadata": {},
     "output_type": "execute_result"
    }
   ],
   "source": [
    "layer = CenteredLayer()\n",
    "layer(torch.tensor([1.0, 2, 3, 4, 5]))"
   ]
  },
  {
   "cell_type": "markdown",
   "id": "2890d991-407c-4e69-b58f-2487606330ff",
   "metadata": {},
   "source": [
    "We can use it in some models now:"
   ]
  },
  {
   "cell_type": "code",
   "execution_count": 36,
   "id": "0b1a5704-127c-4cc5-ae4c-c6801c7fc8da",
   "metadata": {},
   "outputs": [],
   "source": [
    "net = nn.Sequential(nn.LazyLinear(128), CenteredLayer())"
   ]
  },
  {
   "cell_type": "markdown",
   "id": "a58e5a25-30ce-41d8-b099-49758ddc829c",
   "metadata": {},
   "source": [
    "Check how it works:"
   ]
  },
  {
   "cell_type": "code",
   "execution_count": 37,
   "id": "318398b4-6dec-4b34-addc-cb3d662e032d",
   "metadata": {},
   "outputs": [
    {
     "data": {
      "text/plain": [
       "tensor(2.7940e-09, grad_fn=<MeanBackward0>)"
      ]
     },
     "execution_count": 37,
     "metadata": {},
     "output_type": "execute_result"
    }
   ],
   "source": [
    "Y = net(torch.rand(4, 8))\n",
    "Y.mean()"
   ]
  },
  {
   "cell_type": "markdown",
   "id": "cd5b29d8-e64d-465d-9dcc-2203d562b5da",
   "metadata": {},
   "source": [
    "The very small number instead of 0 is due to floating point number arithmetic."
   ]
  },
  {
   "cell_type": "markdown",
   "id": "3e5441bd-1d00-433c-a752-86a239d9decb",
   "metadata": {},
   "source": [
    "Let's now create a custom layer with parameters: `in_units` and `out_units` for inputs and outputs counts."
   ]
  },
  {
   "cell_type": "code",
   "execution_count": 39,
   "id": "2955e5f8-ceac-4371-b204-33d9047005de",
   "metadata": {},
   "outputs": [],
   "source": [
    "class MyLinear(nn.Module):\n",
    "    def __init__(self, in_units, out_units):\n",
    "        super().__init__()\n",
    "        self.weight = nn.Parameter(torch.randn(in_units, out_units))\n",
    "        self.bias = nn.Parameter(torch.randn(out_units,))\n",
    "\n",
    "    def forward(self, X):\n",
    "        linear = torch.matmul(X, self.weight.data) + self.bias.data\n",
    "        return F.relu(linear)"
   ]
  },
  {
   "cell_type": "markdown",
   "id": "b240c690-1be7-4939-a39a-49fd31057b76",
   "metadata": {},
   "source": [
    "We can instantiate it and check parameters:"
   ]
  },
  {
   "cell_type": "code",
   "execution_count": 40,
   "id": "5a2ae7a4-af2b-40b6-8673-901c68189221",
   "metadata": {},
   "outputs": [
    {
     "data": {
      "text/plain": [
       "Parameter containing:\n",
       "tensor([[ 0.1358,  0.5658, -0.7315],\n",
       "        [-1.0924,  0.3750, -0.3445],\n",
       "        [-0.3658,  0.3991, -1.8400],\n",
       "        [ 0.4112, -0.3660,  0.2887],\n",
       "        [ 1.2771,  0.1687,  0.4087]], requires_grad=True)"
      ]
     },
     "execution_count": 40,
     "metadata": {},
     "output_type": "execute_result"
    }
   ],
   "source": [
    "linear = MyLinear(5, 3)\n",
    "linear.weight"
   ]
  },
  {
   "cell_type": "markdown",
   "id": "acaa9171-eb11-498e-b185-ef37191fc93d",
   "metadata": {},
   "source": [
    "Now invoke forward propagation using our custom layer:"
   ]
  },
  {
   "cell_type": "code",
   "execution_count": 41,
   "id": "00f22d25-47ab-47b7-bec7-290a985b2120",
   "metadata": {},
   "outputs": [
    {
     "data": {
      "text/plain": [
       "tensor([[0., 0., 0.],\n",
       "        [0., 0., 0.]])"
      ]
     },
     "execution_count": 41,
     "metadata": {},
     "output_type": "execute_result"
    }
   ],
   "source": [
    "linear(torch.rand(2, 5))"
   ]
  },
  {
   "cell_type": "markdown",
   "id": "23fa6e5a-f5a1-407b-b0c3-3f53277b2859",
   "metadata": {},
   "source": [
    "Now we can construct a model using the custom layer:"
   ]
  },
  {
   "cell_type": "code",
   "execution_count": 42,
   "id": "9fa22724-744d-402e-b5fb-964c62863789",
   "metadata": {},
   "outputs": [
    {
     "data": {
      "text/plain": [
       "tensor([[0.],\n",
       "        [0.]])"
      ]
     },
     "execution_count": 42,
     "metadata": {},
     "output_type": "execute_result"
    }
   ],
   "source": [
    "net = nn.Sequential(MyLinear(64, 8), MyLinear(8, 1))\n",
    "net(torch.rand(2, 64))"
   ]
  },
  {
   "cell_type": "markdown",
   "id": "50f2b8b0-5cca-4247-90fb-b4da40614cd5",
   "metadata": {},
   "source": [
    "### Loading and saving\n",
    "\n",
    "Save a single tensor:"
   ]
  },
  {
   "cell_type": "code",
   "execution_count": 43,
   "id": "40756f8d-ceba-4f85-aa06-b34d54a8e3ce",
   "metadata": {},
   "outputs": [
    {
     "data": {
      "text/plain": [
       "tensor([0, 1, 2, 3])"
      ]
     },
     "execution_count": 43,
     "metadata": {},
     "output_type": "execute_result"
    }
   ],
   "source": [
    "x = torch.arange(4)\n",
    "torch.save(x, 'torch.data')\n",
    "x"
   ]
  },
  {
   "cell_type": "markdown",
   "id": "ab1bdbde-7de6-4254-bd3e-edd59b332b66",
   "metadata": {},
   "source": [
    "Now read it back:"
   ]
  },
  {
   "cell_type": "code",
   "execution_count": 44,
   "id": "ceb30ed0-c269-4841-b38b-35f67dbc9ed4",
   "metadata": {},
   "outputs": [
    {
     "data": {
      "text/plain": [
       "tensor([0, 1, 2, 3])"
      ]
     },
     "execution_count": 44,
     "metadata": {},
     "output_type": "execute_result"
    }
   ],
   "source": [
    "x2 = torch.load('torch.data')\n",
    "x2"
   ]
  },
  {
   "cell_type": "markdown",
   "id": "434bce76-513c-41cd-9bbd-0de789817f09",
   "metadata": {},
   "source": [
    "Same can be done with lists of tensors:"
   ]
  },
  {
   "cell_type": "code",
   "execution_count": 45,
   "id": "aac3fe5c-fea1-43a4-b89c-999b413b3425",
   "metadata": {},
   "outputs": [
    {
     "data": {
      "text/plain": [
       "(tensor([0, 1, 2, 3]), tensor([0., 0., 0., 0.]))"
      ]
     },
     "execution_count": 45,
     "metadata": {},
     "output_type": "execute_result"
    }
   ],
   "source": [
    "y = torch.zeros(4)\n",
    "torch.save([x, y],'torch2.data')\n",
    "x2, y2 = torch.load('torch2.data')\n",
    "(x2, y2)"
   ]
  },
  {
   "cell_type": "markdown",
   "id": "fe8175d2-d2f3-4604-9e03-c7a9beb04ef8",
   "metadata": {},
   "source": [
    "Saving dictionaries of tensors also works:"
   ]
  },
  {
   "cell_type": "code",
   "execution_count": 46,
   "id": "af7adfb6-5175-41d3-a5e4-27afb905a139",
   "metadata": {},
   "outputs": [
    {
     "data": {
      "text/plain": [
       "{'x': tensor([0, 1, 2, 3]), 'y': tensor([0., 0., 0., 0.])}"
      ]
     },
     "execution_count": 46,
     "metadata": {},
     "output_type": "execute_result"
    }
   ],
   "source": [
    "mydict = {'x': x, 'y': y}\n",
    "torch.save(mydict, 'torch_dict.data')\n",
    "mydict2 = torch.load('torch_dict.data')\n",
    "mydict2"
   ]
  },
  {
   "cell_type": "markdown",
   "id": "e4c72a14-beb9-4f73-94da-c7427d5b5e5d",
   "metadata": {},
   "source": [
    "How does this work for complete models? Let's check it, using the example model for multi-layer perceptron."
   ]
  },
  {
   "cell_type": "code",
   "execution_count": 47,
   "id": "9e7fe20f-c33d-4506-93d3-72104c73a2dc",
   "metadata": {},
   "outputs": [],
   "source": [
    "class MLP(nn.Module):\n",
    "    def __init__(self):\n",
    "        super().__init__()\n",
    "        self.hidden = nn.LazyLinear(256)\n",
    "        self.output = nn.LazyLinear(10)\n",
    "\n",
    "    def forward(self, x):\n",
    "        return self.output(F.relu(self.hidden(x)))\n",
    "\n",
    "net = MLP()\n",
    "X = torch.randn(size=(2, 20))\n",
    "Y = net(X)"
   ]
  },
  {
   "cell_type": "markdown",
   "id": "75347af6-8ffb-4020-b46f-b9a657267d47",
   "metadata": {},
   "source": [
    "We can save the parameters of that model with:"
   ]
  },
  {
   "cell_type": "code",
   "execution_count": 48,
   "id": "28e4f792-56f6-4d25-952a-9576322f37f3",
   "metadata": {},
   "outputs": [],
   "source": [
    "torch.save(net.state_dict(), 'mlp.params')"
   ]
  },
  {
   "cell_type": "markdown",
   "id": "6ce711cb-a97d-4f48-90b8-697761281a1a",
   "metadata": {},
   "source": [
    "In order to load the model, we can do this:"
   ]
  },
  {
   "cell_type": "code",
   "execution_count": 49,
   "id": "69336b4e-99e7-438c-94f2-b4d7e03eb67a",
   "metadata": {},
   "outputs": [
    {
     "data": {
      "text/plain": [
       "MLP(\n",
       "  (hidden): LazyLinear(in_features=0, out_features=256, bias=True)\n",
       "  (output): LazyLinear(in_features=0, out_features=10, bias=True)\n",
       ")"
      ]
     },
     "execution_count": 49,
     "metadata": {},
     "output_type": "execute_result"
    }
   ],
   "source": [
    "clone = MLP()\n",
    "clone.load_state_dict(torch.load('mlp.params'))\n",
    "clone.eval()"
   ]
  },
  {
   "cell_type": "markdown",
   "id": "9fbfa7f5-830c-4258-b700-a73f4e5d62db",
   "metadata": {},
   "source": [
    "Let's verify that original model and cloned model produce same results:"
   ]
  },
  {
   "cell_type": "code",
   "execution_count": 50,
   "id": "9cf82b70-e5e0-41bd-a2b3-0773953c2188",
   "metadata": {},
   "outputs": [
    {
     "data": {
      "text/plain": [
       "tensor([[True, True, True, True, True, True, True, True, True, True],\n",
       "        [True, True, True, True, True, True, True, True, True, True]])"
      ]
     },
     "execution_count": 50,
     "metadata": {},
     "output_type": "execute_result"
    }
   ],
   "source": [
    "Y_clone = clone(X)\n",
    "Y_clone == Y"
   ]
  },
  {
   "cell_type": "markdown",
   "id": "099bea2b-71f0-4800-9781-44c8e26c6dfb",
   "metadata": {},
   "source": [
    "## Walkthrough with TorchVision dataset\n",
    "\n",
    "### Fetching data\n",
    "Let's fetch some sample dataset:"
   ]
  },
  {
   "cell_type": "code",
   "execution_count": 51,
   "id": "a4b5e687-2000-4ce8-bf0d-4f44f4dbc2a2",
   "metadata": {},
   "outputs": [],
   "source": [
    "from torch.utils.data import DataLoader\n",
    "from torchvision import datasets\n",
    "from torchvision.transforms import ToTensor"
   ]
  },
  {
   "cell_type": "markdown",
   "id": "de9588f7-92ee-459a-bf00-aec8547ecb22",
   "metadata": {},
   "source": [
    "PyTorch offers domain-specific libraries such as TorchText, TorchVision, and TorchAudio, all of which include datasets. For this tutorial, we will be using a TorchVision dataset.\n",
    "\n",
    "The torchvision.datasets module contains Dataset objects for many real-world vision data like CIFAR, COCO (full list here). We will use the FashionMNIST dataset. Every TorchVision Dataset includes two arguments: transform and target_transform to modify the samples and labels respectively."
   ]
  },
  {
   "cell_type": "code",
   "execution_count": 52,
   "id": "83967f42-c8d9-41b3-88c6-49b872a0989b",
   "metadata": {},
   "outputs": [],
   "source": [
    "# Download training data from open datasets.\n",
    "training_data = datasets.FashionMNIST(\n",
    "    root=\"data\",\n",
    "    train=True,\n",
    "    download=True,\n",
    "    transform=ToTensor(),\n",
    ")\n",
    "\n",
    "# Download test data from open datasets.\n",
    "test_data = datasets.FashionMNIST(\n",
    "    root=\"data\",\n",
    "    train=False,\n",
    "    download=True,\n",
    "    transform=ToTensor(),\n",
    ")"
   ]
  },
  {
   "cell_type": "markdown",
   "id": "c2d4ba6f-e072-4f65-93e3-deb0f888e3c7",
   "metadata": {},
   "source": [
    "We pass the `Dataset` as an argument to `DataLoader`. This wraps an iterable over our dataset, and supports automatic batching, sampling, shuffling and multiprocess data loading. Here we define a batch size of 64, i.e. each element in the dataloader iterable will return a batch of 64 features and labels."
   ]
  },
  {
   "cell_type": "code",
   "execution_count": 53,
   "id": "597c3fef-7209-4c6c-8bb6-557c63955fb2",
   "metadata": {},
   "outputs": [
    {
     "name": "stdout",
     "output_type": "stream",
     "text": [
      "Shape of X [N, C, H, W]: torch.Size([64, 1, 28, 28])\n",
      "Shape of y: torch.Size([64]) torch.int64\n"
     ]
    }
   ],
   "source": [
    "batch_size = 64\n",
    "\n",
    "# Create data loaders.\n",
    "train_dataloader = DataLoader(training_data, batch_size=batch_size)\n",
    "test_dataloader = DataLoader(test_data, batch_size=batch_size)\n",
    "\n",
    "for X, y in test_dataloader:\n",
    "    print(f\"Shape of X [N, C, H, W]: {X.shape}\")\n",
    "    print(f\"Shape of y: {y.shape} {y.dtype}\")\n",
    "    break"
   ]
  },
  {
   "cell_type": "markdown",
   "id": "8861a472-71dd-4bbe-9b0c-d2df1905f1d8",
   "metadata": {},
   "source": [
    "Let's visualize some samples:"
   ]
  },
  {
   "cell_type": "code",
   "execution_count": 54,
   "id": "3df3b417-8851-4ea9-836b-507f369d1a65",
   "metadata": {},
   "outputs": [
    {
     "data": {
      "image/png": "[encoded data removed]",
      "text/plain": [
       "<Figure size 800x800 with 9 Axes>"
      ]
     },
     "metadata": {},
     "output_type": "display_data"
    }
   ],
   "source": [
    "import matplotlib.pyplot as plt\n",
    "\n",
    "labels_map = {\n",
    "    0: \"T-Shirt\",\n",
    "    1: \"Trouser\",\n",
    "    2: \"Pullover\",\n",
    "    3: \"Dress\",\n",
    "    4: \"Coat\",\n",
    "    5: \"Sandal\",\n",
    "    6: \"Shirt\",\n",
    "    7: \"Sneaker\",\n",
    "    8: \"Bag\",\n",
    "    9: \"Ankle Boot\",\n",
    "}\n",
    "figure = plt.figure(figsize=(8, 8))\n",
    "cols, rows = 3, 3\n",
    "for i in range(1, cols * rows + 1):\n",
    "    sample_idx = torch.randint(len(training_data), size=(1,)).item()\n",
    "    img, label = training_data[sample_idx]\n",
    "    figure.add_subplot(rows, cols, i)\n",
    "    plt.title(labels_map[label])\n",
    "    plt.axis(\"off\")\n",
    "    plt.imshow(img.squeeze(), cmap=\"gray\")\n",
    "plt.show()"
   ]
  },
  {
   "cell_type": "markdown",
   "id": "732a2043-c7b2-434a-891f-971bb22fe03d",
   "metadata": {},
   "source": [
    "### Transforms\n",
    "\n",
    "All TorchVision datasets have two parameters -transform to modify the features and target_transform to modify the labels - that accept callables containing the transformation logic. The torchvision.transforms module offers several commonly-used transforms out of the box.\n",
    "\n",
    "The FashionMNIST features are in PIL Image format, and the labels are integers. For training, we need the features as normalized tensors, and the labels as one-hot encoded tensors. To make these transformations, we can use ToTensor and Lambda.\n",
    "\n",
    "`target_transform` defines a function to turn the integer into a one-hot encoded tensor. It first creates a zero tensor of size 10 (the number of labels in our dataset) and calls scatter_ which assigns a value=1 on the index as given by the label y."
   ]
  },
  {
   "cell_type": "code",
   "execution_count": 55,
   "id": "a1fb1bea-10b1-4d85-8da1-faca418f2a32",
   "metadata": {},
   "outputs": [],
   "source": [
    "%matplotlib inline\n",
    "\n",
    "import torch\n",
    "from torchvision import datasets\n",
    "from torchvision.transforms import ToTensor, Lambda\n",
    "\n",
    "ds = datasets.FashionMNIST(\n",
    "    root=\"data\",\n",
    "    train=True,\n",
    "    download=True,\n",
    "    transform=ToTensor(),\n",
    "    target_transform=Lambda(lambda y: torch.zeros(10, dtype=torch.float).scatter_(0, torch.tensor(y), value=1))\n",
    ")"
   ]
  },
  {
   "cell_type": "markdown",
   "id": "05915445-9ffc-44f8-a14a-ce0d94bf9497",
   "metadata": {},
   "source": [
    "### Defining a network model\n",
    "\n",
    "Now that we have the test data, define a neural network with 2 hidden layers and ReLU activation functions:"
   ]
  },
  {
   "cell_type": "code",
   "execution_count": 60,
   "id": "ab4240e5-8e19-48b1-ac42-1dbf6d7c745e",
   "metadata": {},
   "outputs": [
    {
     "name": "stdout",
     "output_type": "stream",
     "text": [
      "Using mps device\n",
      "NeuralNetwork(\n",
      "  (flatten): Flatten(start_dim=1, end_dim=-1)\n",
      "  (linear_relu_stack): Sequential(\n",
      "    (0): Linear(in_features=784, out_features=512, bias=True)\n",
      "    (1): ReLU()\n",
      "    (2): Linear(in_features=512, out_features=512, bias=True)\n",
      "    (3): ReLU()\n",
      "    (4): Linear(in_features=512, out_features=10, bias=True)\n",
      "  )\n",
      ")\n"
     ]
    }
   ],
   "source": [
    "# Get cpu or gpu device for training.\n",
    "device = \"cuda\" if torch.cuda.is_available() else \"mps\" if torch.backends.mps.is_available() else \"cpu\"\n",
    "print(f\"Using {device} device\")\n",
    "\n",
    "# Define model\n",
    "class NeuralNetwork(nn.Module):\n",
    "    def __init__(self):\n",
    "        super().__init__()\n",
    "        self.flatten = nn.Flatten()\n",
    "        self.linear_relu_stack = nn.Sequential(\n",
    "            nn.Linear(28*28, 512),\n",
    "            nn.ReLU(),\n",
    "            nn.Linear(512, 512),\n",
    "            nn.ReLU(),\n",
    "            nn.Linear(512, 10)\n",
    "        )\n",
    "\n",
    "    def forward(self, x):\n",
    "        x = self.flatten(x)\n",
    "        logits = self.linear_relu_stack(x)\n",
    "        return logits\n",
    "\n",
    "model = NeuralNetwork().to(device)\n",
    "print(model)"
   ]
  },
  {
   "cell_type": "markdown",
   "id": "14ecf728-4384-4e2a-988f-3f248be6a03c",
   "metadata": {},
   "source": [
    "Let's break down the steps:\n",
    "  - initialize the `nn.Flatten` layer to convert each 2D 28x28 image into a contiguous array of 784 pixel values ( the minibatch dimension (at dim=0) is maintained).\n",
    "  -  `nn.Linear` is a module that applies a linear transformation on the input using its stored weights and biases.\n",
    "  -  `nn.ReLU` activations are applied after linear transformations to introduce nonlinearity.\n",
    "  -  `nn.Sequential` orders the modules."
   ]
  },
  {
   "cell_type": "markdown",
   "id": "60d12a6b-0fc2-4c82-b810-5e35e7baddda",
   "metadata": {},
   "source": [
    "In order to train a model, we also need to specify a loss function and optimizer:"
   ]
  },
  {
   "cell_type": "code",
   "execution_count": 61,
   "id": "c3647e12-fb37-41db-86f0-3b1be736ad9f",
   "metadata": {},
   "outputs": [],
   "source": [
    "loss_fn = nn.CrossEntropyLoss()\n",
    "optimizer = torch.optim.SGD(model.parameters(), lr=1e-3)"
   ]
  },
  {
   "cell_type": "markdown",
   "id": "4762ff64-e440-4c79-8f85-b98d2c69da3c",
   "metadata": {},
   "source": [
    "### Training loop\n",
    "\n",
    "To sum up, in order to train a model, we need the following:\n",
    "  - the dataloader that wraps over some dataset\n",
    "  - model itself (derived from PyTorch's `nn.Module`)\n",
    "  - loss function\n",
    "  - optimizer\n",
    "\n",
    "Needed steps are:\n",
    "  - compure forward propagation\n",
    "  - calculate loss\n",
    "  - compute backward propagation\n",
    "  - perform GD step\n",
    "\n",
    "![A picture](./img/training_loop.png)"
   ]
  },
  {
   "cell_type": "code",
   "execution_count": 57,
   "id": "7ec9e6a9-13dc-4219-8e88-97ed4b7085be",
   "metadata": {},
   "outputs": [],
   "source": [
    "def train(dataloader, model, loss_fn, optimizer):\n",
    "    size = len(dataloader.dataset)\n",
    "    # This just sets the model in train mode\n",
    "    model.train()\n",
    "    for batch, (X, y) in enumerate(dataloader):\n",
    "        X, y = X.to(device), y.to(device)\n",
    "\n",
    "        # Compute prediction error\n",
    "        pred = model(X)\n",
    "        loss = loss_fn(pred, y)\n",
    "\n",
    "        # Backpropagation\n",
    "        optimizer.zero_grad()\n",
    "        loss.backward()\n",
    "        optimizer.step()\n",
    "\n",
    "        if batch % 100 == 0:\n",
    "            loss, current = loss.item(), batch * len(X)\n",
    "            print(f\"loss: {loss:>7f}  [{current:>5d}/{size:>5d}]\")"
   ]
  },
  {
   "cell_type": "markdown",
   "id": "aa91cc09-dd22-49bd-aff6-033b0fdac101",
   "metadata": {},
   "source": [
    "We'll also need a test function in order to verify how our model works. Note that we use `torch.no_grad()` as we don't need the gradients when testing:"
   ]
  },
  {
   "cell_type": "code",
   "execution_count": 58,
   "id": "055b54f0-d711-48b3-8e61-4dfbfff167d7",
   "metadata": {},
   "outputs": [],
   "source": [
    "def test(dataloader, model, loss_fn):\n",
    "    size = len(dataloader.dataset)\n",
    "    num_batches = len(dataloader)\n",
    "    model.eval()\n",
    "    test_loss, correct = 0, 0\n",
    "    with torch.no_grad():\n",
    "        for X, y in dataloader:\n",
    "            X, y = X.to(device), y.to(device)\n",
    "            pred = model(X)\n",
    "            test_loss += loss_fn(pred, y).item()\n",
    "            correct += (pred.argmax(1) == y).type(torch.float).sum().item()\n",
    "    test_loss /= num_batches\n",
    "    correct /= size\n",
    "    print(f\"Test Error: \\n Accuracy: {(100*correct):>0.1f}%, Avg loss: {test_loss:>8f} \\n\")"
   ]
  },
  {
   "cell_type": "markdown",
   "id": "b5ad2377-11bf-4ad2-a381-9daee9d92436",
   "metadata": {},
   "source": [
    "![A picture](./img/testing_loop.png)"
   ]
  },
  {
   "cell_type": "markdown",
   "id": "5b8becd2-820e-44fe-a89d-993faf5fd7c8",
   "metadata": {},
   "source": [
    "Let's run it:"
   ]
  },
  {
   "cell_type": "code",
   "execution_count": 59,
   "id": "313d8ead-58f6-4aad-81d5-079e1aff19f1",
   "metadata": {},
   "outputs": [
    {
     "name": "stdout",
     "output_type": "stream",
     "text": [
      "Epoch 1\n",
      "-------------------------------\n"
     ]
    },
    {
     "ename": "NameError",
     "evalue": "name 'model' is not defined",
     "output_type": "error",
     "traceback": [
      "\u001b[0;31m---------------------------------------------------------------------------\u001b[0m",
      "\u001b[0;31mNameError\u001b[0m                                 Traceback (most recent call last)",
      "Cell \u001b[0;32mIn[59], line 4\u001b[0m\n\u001b[1;32m      2\u001b[0m \u001b[38;5;28;01mfor\u001b[39;00m t \u001b[38;5;129;01min\u001b[39;00m \u001b[38;5;28mrange\u001b[39m(epochs):\n\u001b[1;32m      3\u001b[0m     \u001b[38;5;28mprint\u001b[39m(\u001b[38;5;124mf\u001b[39m\u001b[38;5;124m\"\u001b[39m\u001b[38;5;124mEpoch \u001b[39m\u001b[38;5;132;01m{\u001b[39;00mt\u001b[38;5;241m+\u001b[39m\u001b[38;5;241m1\u001b[39m\u001b[38;5;132;01m}\u001b[39;00m\u001b[38;5;130;01m\\n\u001b[39;00m\u001b[38;5;124m-------------------------------\u001b[39m\u001b[38;5;124m\"\u001b[39m)\n\u001b[0;32m----> 4\u001b[0m     train(train_dataloader, \u001b[43mmodel\u001b[49m, loss_fn, optimizer)\n\u001b[1;32m      5\u001b[0m     test(test_dataloader, model, loss_fn)\n\u001b[1;32m      6\u001b[0m \u001b[38;5;28mprint\u001b[39m(\u001b[38;5;124m\"\u001b[39m\u001b[38;5;124mDone!\u001b[39m\u001b[38;5;124m\"\u001b[39m)\n",
      "\u001b[0;31mNameError\u001b[0m: name 'model' is not defined"
     ]
    }
   ],
   "source": [
    "epochs = 5\n",
    "for t in range(epochs):\n",
    "    print(f\"Epoch {t+1}\\n-------------------------------\")\n",
    "    train(train_dataloader, model, loss_fn, optimizer)\n",
    "    test(test_dataloader, model, loss_fn)\n",
    "print(\"Done!\")"
   ]
  },
  {
   "cell_type": "markdown",
   "id": "93478094-c439-40f2-8bdb-f6ba8d19d04c",
   "metadata": {},
   "source": [
    "Save and load model:"
   ]
  },
  {
   "cell_type": "code",
   "execution_count": 62,
   "id": "b8970de6-ed4a-4c0d-8280-de113c03743a",
   "metadata": {},
   "outputs": [
    {
     "data": {
      "text/plain": [
       "<All keys matched successfully>"
      ]
     },
     "execution_count": 62,
     "metadata": {},
     "output_type": "execute_result"
    }
   ],
   "source": [
    "torch.save(model.state_dict(), \"model.pth\")\n",
    "model = NeuralNetwork()\n",
    "model.load_state_dict(torch.load(\"model.pth\"))"
   ]
  },
  {
   "cell_type": "markdown",
   "id": "af2d58eb-fb28-4dac-aba9-61ba4d123bec",
   "metadata": {},
   "source": [
    "Let's use the model to make predictions:"
   ]
  },
  {
   "cell_type": "code",
   "execution_count": 63,
   "id": "718577ea-e1ed-4831-bc21-581f0dadfad4",
   "metadata": {},
   "outputs": [
    {
     "name": "stdout",
     "output_type": "stream",
     "text": [
      "Predicted: \"Sneaker\", Actual: \"Ankle boot\"\n"
     ]
    }
   ],
   "source": [
    "\n",
    "classes = [\n",
    "    \"T-shirt/top\",\n",
    "    \"Trouser\",\n",
    "    \"Pullover\",\n",
    "    \"Dress\",\n",
    "    \"Coat\",\n",
    "    \"Sandal\",\n",
    "    \"Shirt\",\n",
    "    \"Sneaker\",\n",
    "    \"Bag\",\n",
    "    \"Ankle boot\",\n",
    "]\n",
    "\n",
    "# Switch model to evaluation mode\n",
    "model.eval()\n",
    "x, y = test_data[0][0], test_data[0][1]\n",
    "with torch.no_grad():\n",
    "    pred = model(x)\n",
    "    predicted, actual = classes[pred[0].argmax(0)], classes[y]\n",
    "    print(f'Predicted: \"{predicted}\", Actual: \"{actual}\"')"
   ]
  },
  {
   "cell_type": "code",
   "execution_count": null,
   "id": "bc5b2119-0ba9-49d6-84e0-b9b21395fa8d",
   "metadata": {},
   "outputs": [],
   "source": []
  }
 ],
 "metadata": {
  "kernelspec": {
   "display_name": "Python 3 (ipykernel)",
   "language": "python",
   "name": "python3"
  },
  "language_info": {
   "codemirror_mode": {
    "name": "ipython",
    "version": 3
   },
   "file_extension": ".py",
   "mimetype": "text/x-python",
   "name": "python",
   "nbconvert_exporter": "python",
   "pygments_lexer": "ipython3",
   "version": "3.12.9"
  }
 },
 "nbformat": 4,
 "nbformat_minor": 5
}
